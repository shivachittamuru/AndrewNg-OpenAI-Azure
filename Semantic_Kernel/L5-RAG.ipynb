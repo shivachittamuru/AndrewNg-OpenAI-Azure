{
 "cells": [
  {
   "cell_type": "markdown",
   "metadata": {},
   "source": [
    "Inventory:\n",
    "\n",
    "1. Kernel\n",
    "2. Semantic (and Native) functions -- you can do a lot with these\n",
    "3. BusinessThinking plugin --> SWOTs in ways you could never imagine\n",
    "4. DesignThinking plugin --> you did that. Congrats\n",
    "\n",
    "... next up ... you did all that COMPLETION ✨✨✨✨✨✨✨✨✨✨✨✨✨✨✨✨✨✨"
   ]
  },
  {
   "cell_type": "code",
   "execution_count": 2,
   "metadata": {},
   "outputs": [
    {
     "name": "stdout",
     "output_type": "stream",
     "text": [
      "A kernel is now ready.\n"
     ]
    }
   ],
   "source": [
    "import semantic_kernel as sk\n",
    "from semantic_kernel.connectors.ai.open_ai import AzureChatCompletion, OpenAIChatCompletion, OpenAITextEmbedding, AzureTextEmbedding\n",
    "from IPython.display import display, Markdown\n",
    "\n",
    "kernel = sk.Kernel()\n",
    "\n",
    "useAzureOpenAI = True\n",
    "\n",
    "if useAzureOpenAI:\n",
    "    deployment, api_key, endpoint = sk.azure_openai_settings_from_dot_env()\n",
    "    kernel.add_text_completion_service(\"azureopenai\", AzureChatCompletion(deployment, endpoint, api_key))\n",
    "    kernel.add_text_embedding_generation_service(\"openai-embedding\", AzureTextEmbedding(\"text-embedding-ada-002\", endpoint, api_key))\n",
    "else:\n",
    "    api_key, org_id = sk.openai_settings_from_dot_env()\n",
    "    kernel.add_text_completion_service(\"openai\", OpenAIChatCompletion(\"gpt-3.5-turbo-0301\", api_key, org_id))\n",
    "    kernel.add_text_embedding_generation_service(\"openai-embedding\", OpenAITextEmbedding(\"text-embedding-ada-002\", api_key, org_id))\n",
    "\n",
    "\n",
    "print(\"A kernel is now ready.\")    "
   ]
  },
  {
   "cell_type": "code",
   "execution_count": 4,
   "metadata": {},
   "outputs": [
    {
     "name": "stdout",
     "output_type": "stream",
     "text": [
      "Made two new services attached to the kernel and made a Chroma memory store that's persistent.\n"
     ]
    }
   ],
   "source": [
    "from semantic_kernel.connectors.memory.chroma import ChromaMemoryStore\n",
    "\n",
    "kernel.register_memory_store(memory_store=ChromaMemoryStore(persist_directory='mymemories'))\n",
    "print(\"Made two new services attached to the kernel and made a Chroma memory store that's persistent.\")"
   ]
  },
  {
   "cell_type": "code",
   "execution_count": 5,
   "metadata": {},
   "outputs": [],
   "source": [
    "import shutil\n",
    "\n",
    "### ONLY DELETE THE DIRECTORY IF YOU WANT TO CLEAR THE MEMORY\n",
    "### OTHERWISE, SET delete_dir = True\n",
    "\n",
    "delete_dir = False\n",
    "\n",
    "if (delete_dir):\n",
    "    dir_path = \"mymemories\"\n",
    "    shutil.rmtree(dir_path)\n",
    "    kernel.register_memory_store(memory_store=ChromaMemoryStore(persist_directory=dir_path))\n",
    "    print(\"⚠️ Memory cleared and reset\")"
   ]
  },
  {
   "cell_type": "code",
   "execution_count": 6,
   "metadata": {},
   "outputs": [
    {
     "name": "stdout",
     "output_type": "stream",
     "text": [
      "✅ SWOT analysis for the pizza shop is resident in native memory\n",
      "😶‍🌫️ Embeddings for SWOT have been generated\n"
     ]
    }
   ],
   "source": [
    "strength_questions = [\"What unique recipes or ingredients does the pizza shop use?\",\"What are the skills and experience of the staff?\",\"Does the pizza shop have a strong reputation in the local area?\",\"Are there any unique features of the shop or its location that attract customers?\", \"Does the pizza shop have a strong reputation in the local area?\", \"Are there any unique features of the shop or its location that attract customers?\"]\n",
    "weakness_questions = [\"What are the operational challenges of the pizza shop? (e.g., slow service, high staff turnover)\",\"Are there financial constraints that limit growth or improvements?\",\"Are there any gaps in the product offering?\",\"Are there customer complaints or negative reviews that need to be addressed?\"]\n",
    "opportunities_questions = [\"Is there potential for new products or services (e.g., catering, delivery)?\",\"Are there under-served customer segments or market areas?\",\"Can new technologies or systems enhance the business operations?\",\"Are there partnerships or local events that can be leveraged for marketing?\"]\n",
    "threats_questions = [\"Who are the major competitors and what are they offering?\",\"Are there potential negative impacts due to changes in the local area (e.g., construction, closure of nearby businesses)?\",\"Are there economic or industry trends that could impact the business negatively (e.g., increased ingredient costs)?\",\"Is there any risk due to changes in regulations or legislation (e.g., health and safety, employment)?\"]\n",
    "\n",
    "strengths = [ \"Unique garlic pizza recipe that wins top awards\",\"Owner trained in Sicily at some of the best pizzerias\",\"Strong local reputation\",\"Prime location on university campus\" ]\n",
    "weaknesses = [ \"High staff turnover\",\"Floods in the area damaged the seating areas that are in need of repair\",\"Absence of popular calzones from menu\",\"Negative reviews from younger demographic for lack of hip ingredients\" ]\n",
    "opportunities = [ \"Untapped catering potential\",\"Growing local tech startup community\",\"Unexplored online presence and order capabilities\",\"Upcoming annual food fair\" ]\n",
    "threats = [ \"Competition from cheaper pizza businesses nearby\",\"There's nearby street construction that will impact foot traffic\",\"Rising cost of cheese will increase the cost of pizzas\",\"No immediate local regulatory changes but it's election season\" ]\n",
    "\n",
    "print(\"✅ SWOT analysis for the pizza shop is resident in native memory\")\n",
    "\n",
    "memoryCollectionName = \"SWOT\"\n",
    "\n",
    "for i in range(len(strengths)):\n",
    "    await kernel.memory.save_information_async(memoryCollectionName, id=f\"strength-{i}\", text=f\"Internal business strength (S in SWOT) that makes customers happy and satisfied Q&A: Q: {strength_questions[i]} A: {strengths[i]}\")\n",
    "for i in range(len(weaknesses)):\n",
    "    await kernel.memory.save_information_async(memoryCollectionName, id=f\"weakness-{i}\", text=f\"Internal business weakness (W in SWOT) that makes customers unhappy and dissatisfied Q&A: Q: {weakness_questions[i]} A: {weaknesses[i]}\")\n",
    "for i in range(len(opportunities)):\n",
    "    await kernel.memory.save_information_async(memoryCollectionName, id=f\"opportunity-{i}\", text=f\"External opportunity (O in SWOT) for the business to gain entirely new customers Q&A: Q: {opportunities_questions[i]} A: {opportunities[i]}\")\n",
    "for i in range(len(threats)):\n",
    "    await kernel.memory.save_information_async(memoryCollectionName, id=f\"threat-{i}\", text=f\"External threat (T in SWOT) to the business that impacts its survival Q&A: Q: {threats_questions[i]} A: {threats[i]}\")\n",
    "\n",
    "print(\"😶‍🌫️ Embeddings for SWOT have been generated\")"
   ]
  },
  {
   "cell_type": "code",
   "execution_count": 7,
   "metadata": {},
   "outputs": [
    {
     "data": {
      "text/markdown": [
       "### ❓ Potential question: What are the easiest ways to make more money?"
      ],
      "text/plain": [
       "<IPython.core.display.Markdown object>"
      ]
     },
     "metadata": {},
     "output_type": "display_data"
    },
    {
     "name": "stdout",
     "output_type": "stream",
     "text": [
      "  > 🧲 Similarity result 1:\n",
      "  >> ID: opportunity-0\n",
      "  Text: External opportunity (O in SWOT) for the business to gain entirely new customers Q&A: Q: Is there potential for new products or services (e.g., catering, delivery)? A: Untapped catering potential  Relevance: 0.7720500249661056\n",
      "\n",
      "  > 🧲 Similarity result 2:\n",
      "  >> ID: opportunity-3\n",
      "  Text: External opportunity (O in SWOT) for the business to gain entirely new customers Q&A: Q: Are there partnerships or local events that can be leveraged for marketing? A: Upcoming annual food fair  Relevance: 0.7714008464537917\n",
      "\n",
      "  > 🧲 Similarity result 3:\n",
      "  >> ID: opportunity-1\n",
      "  Text: External opportunity (O in SWOT) for the business to gain entirely new customers Q&A: Q: Are there under-served customer segments or market areas? A: Growing local tech startup community  Relevance: 0.7697414018169496\n",
      "\n",
      "  > 🧲 Similarity result 4:\n",
      "  >> ID: opportunity-2\n",
      "  Text: External opportunity (O in SWOT) for the business to gain entirely new customers Q&A: Q: Can new technologies or systems enhance the business operations? A: Unexplored online presence and order capabilities  Relevance: 0.7676281818259943\n",
      "\n",
      "  > 🧲 Similarity result 5:\n",
      "  >> ID: threat-0\n",
      "  Text: External threat (T in SWOT) to the business that impacts its survival Q&A: Q: Who are the major competitors and what are they offering? A: Competition from cheaper pizza businesses nearby  Relevance: 0.7520854250298875\n",
      "\n"
     ]
    }
   ],
   "source": [
    "potential_question = \"What are the easiest ways to make more money?\"\n",
    "counter = 0\n",
    "\n",
    "memories = await kernel.memory.search_async(memoryCollectionName, potential_question, limit=5, min_relevance_score=0.5)\n",
    "\n",
    "display(Markdown(f\"### ❓ Potential question: {potential_question}\"))\n",
    "\n",
    "for memory in memories:\n",
    "    if counter == 0:\n",
    "        related_memory = memory.text\n",
    "    counter += 1\n",
    "    print(f\"  > 🧲 Similarity result {counter}:\\n  >> ID: {memory.id}\\n  Text: {memory.text}  Relevance: {memory.relevance}\\n\")"
   ]
  },
  {
   "cell_type": "code",
   "execution_count": 10,
   "metadata": {},
   "outputs": [
    {
     "name": "stdout",
     "output_type": "stream",
     "text": [
      "✨ Leveraging information available to address 'How can the business owner save time?'...\n",
      "  > 🧲 Hit 1: opportunity-2 \n",
      "  > 🧲 Hit 2: opportunity-0 \n",
      "  > 🧲 Hit 3: opportunity-1 \n",
      "✨ Synthesizing human-readable business-style presentation...\n"
     ]
    },
    {
     "data": {
      "text/markdown": [
       "# ✨ Generated presentation ...\n",
       "---\n",
       "Title: Saving Time for the Business Owner\n",
       "\n",
       "Summary:\n",
       "This presentation aims to provide strategies for the business owner to save time. By addressing three key concerns, we will explore how new technologies, untapped catering potential, and the growing local tech startup community can enhance business operations and help save valuable time.\n",
       "\n",
       "---\n",
       "\n",
       "Page 2:\n",
       "\n",
       "The Question:\n",
       "How can the business owner save time?\n",
       "\n",
       "---\n",
       "\n",
       "Page 3:\n",
       "\n",
       "Three Key Concerns:\n",
       "1. Leveraging new technologies or systems\n",
       "2. Exploring untapped catering potential\n",
       "3. Targeting the growing local tech startup community\n",
       "\n",
       "---\n",
       "\n",
       "Page 4:\n",
       "\n",
       "Concern 1: Leveraging new technologies or systems\n",
       "\n",
       "Explanation:\n",
       "By embracing new technologies and systems, the business owner can automate various processes, streamline operations, and ultimately save time. This can include implementing online presence and order capabilities, which can significantly reduce manual tasks and improve efficiency.\n",
       "\n",
       "Example:\n",
       "Integrating an online ordering system can eliminate the need for manual order taking, reducing errors and saving time spent on phone calls. Additionally, utilizing customer relationship management (CRM) software can automate customer interactions, freeing up the business owner's time for other important tasks.\n",
       "\n",
       "---\n",
       "\n",
       "Page 5:\n",
       "\n",
       "Concern 2: Exploring untapped catering potential\n",
       "\n",
       "Explanation:\n",
       "Catering can be a lucrative opportunity for the business to expand its customer base. By tapping into this potential, the business owner can generate additional revenue streams and save time by leveraging existing resources and infrastructure.\n",
       "\n",
       "Example:\n",
       "The business can offer catering services for corporate events or private parties. By utilizing the existing kitchen facilities and staff during off-peak hours, the business owner can maximize the use of resources and generate additional income without significant time investment.\n",
       "\n",
       "---\n",
       "\n",
       "Page 6:\n",
       "\n",
       "Concern 3: Targeting the growing local tech startup community\n",
       "\n",
       "Explanation:\n",
       "The growing local tech startup community represents an under-served customer segment. By specifically targeting this market, the business owner can attract new customers and save time by focusing marketing efforts on a niche audience with specific needs.\n",
       "\n",
       "Example:\n",
       "The business can offer tailored services or products that cater to the unique requirements of tech startups, such as providing healthy meal options for employees or offering discounted rates for bulk orders. By understanding the needs of this customer segment, the business owner can efficiently allocate resources and save time by avoiding generic marketing strategies.\n",
       "\n",
       "---\n",
       "\n",
       "Page 7:\n",
       "\n",
       "Summary:\n",
       "In summary, the business owner can save time by leveraging new technologies or systems, exploring untapped catering potential, and targeting the growing local tech startup community. By implementing online presence and order capabilities, tapping into catering opportunities, and tailoring services for the tech startup community, the business can enhance operations, attract new customers, and ultimately save valuable time for the owner."
      ],
      "text/plain": [
       "<IPython.core.display.Markdown object>"
      ]
     },
     "metadata": {},
     "output_type": "display_data"
    }
   ],
   "source": [
    "what_if_scenario = \"How can the business owner save time?\"\n",
    "counter = 0\n",
    "\n",
    "gathered_context = []\n",
    "max_memories = 3\n",
    "memories = await kernel.memory.search_async(memoryCollectionName, what_if_scenario, limit=max_memories, min_relevance_score=0.77)\n",
    "\n",
    "print(f\"✨ Leveraging information available to address '{what_if_scenario}'...\")\n",
    "\n",
    "for memory in memories:\n",
    "    if counter == 0:\n",
    "        related_memory = memory.text\n",
    "    counter += 1\n",
    "    gathered_context.append(memory.text + \"\\n\")\n",
    "    print(f\"  > 🧲 Hit {counter}: {memory.id} \")\n",
    "\n",
    "skillsDirectory = \".\\plugins-sk\"\n",
    "print(f\"✨ Synthesizing human-readable business-style presentation...\")\n",
    "pluginFC = kernel.import_semantic_skill_from_directory(skillsDirectory, \"FriendlyConsultant\");\n",
    "\n",
    "my_context = kernel.create_new_context()\n",
    "my_context['input'] = what_if_scenario\n",
    "my_context['context'] = \"\\n\".join(gathered_context)\n",
    "\n",
    "preso_result = await kernel.run_async(pluginFC[\"Presentation\"], input_context=my_context)\n",
    "\n",
    "display(Markdown(\"# ✨ Generated presentation ...\\n\"+str(preso_result)))\n",
    "\n"
   ]
  },
  {
   "cell_type": "code",
   "execution_count": null,
   "metadata": {},
   "outputs": [],
   "source": []
  }
 ],
 "metadata": {
  "kernelspec": {
   "display_name": "llms",
   "language": "python",
   "name": "python3"
  },
  "language_info": {
   "codemirror_mode": {
    "name": "ipython",
    "version": 3
   },
   "file_extension": ".py",
   "mimetype": "text/x-python",
   "name": "python",
   "nbconvert_exporter": "python",
   "pygments_lexer": "ipython3",
   "version": "3.10.12"
  }
 },
 "nbformat": 4,
 "nbformat_minor": 2
}
