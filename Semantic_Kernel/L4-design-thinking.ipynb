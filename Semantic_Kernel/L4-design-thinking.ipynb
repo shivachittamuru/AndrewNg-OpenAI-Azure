{
 "cells": [
  {
   "cell_type": "markdown",
   "metadata": {},
   "source": [
    "Inventory:\n",
    "\n",
    "1. Kernel\n",
    "2. Semantic (and Native) functions -- you can do a lot with these\n",
    "3. BusinessThinking plugin --> SWOTs in ways you could never imagine\n",
    "4. DesignThinking plugin ... Here you are"
   ]
  },
  {
   "cell_type": "code",
   "execution_count": 1,
   "metadata": {},
   "outputs": [
    {
     "name": "stdout",
     "output_type": "stream",
     "text": [
      "A kernel is now ready.\n"
     ]
    }
   ],
   "source": [
    "import semantic_kernel as sk\n",
    "from semantic_kernel.connectors.ai.open_ai import AzureChatCompletion, OpenAIChatCompletion\n",
    "from IPython.display import display, Markdown\n",
    "\n",
    "kernel = sk.Kernel()\n",
    "\n",
    "useAzureOpenAI = True\n",
    "\n",
    "if useAzureOpenAI:\n",
    "    deployment, api_key, endpoint = sk.azure_openai_settings_from_dot_env()\n",
    "    kernel.add_text_completion_service(\"azureopenai\", AzureChatCompletion(deployment, endpoint, api_key))\n",
    "else:\n",
    "    api_key, org_id = sk.openai_settings_from_dot_env()\n",
    "    kernel.add_text_completion_service(\"openai\", OpenAIChatCompletion(\"gpt-3.5-turbo-0301\", api_key, org_id))\n",
    "\n",
    "print(\"A kernel is now ready.\")    "
   ]
  },
  {
   "cell_type": "markdown",
   "metadata": {},
   "source": [
    "## 🏁 Let's start backwards from the customer\n",
    "\n",
    "```directory\n",
    "plugins-sk/\n",
    "│\n",
    "└─── DesignThinking/\n",
    "     |\n",
    "     └─── Define/\n",
    "     |    └─── config.json\n",
    "     |    └─── skprompt.txt\n",
    "     |\n",
    "     └─── Empathize/\n",
    "          └─── config.json\n",
    "          └─── skprompt.txt\n",
    "\n",
    "```"
   ]
  },
  {
   "cell_type": "code",
   "execution_count": 2,
   "metadata": {},
   "outputs": [
    {
     "data": {
      "text/markdown": [
       "## ✨ The categorized observations from the 'Empathize' phase of design thinking\n"
      ],
      "text/plain": [
       "<IPython.core.display.Markdown object>"
      ]
     },
     "metadata": {},
     "output_type": "display_data"
    },
    {
     "name": "stdout",
     "output_type": "stream",
     "text": [
      "[\n",
      "  {\n",
      "    \"sentiment\": \"negative\",\n",
      "    \"summary\": \"The seats are raggedy and uncomfortable and dirty.\"\n",
      "  },\n",
      "  {\n",
      "    \"sentiment\": \"positive\",\n",
      "    \"summary\": \"The garlic pizza is the best and exceptional.\"\n",
      "  },\n",
      "  {\n",
      "    \"sentiment\": \"negative\",\n",
      "    \"summary\": \"There are new clueless servers every time I visit.\"\n",
      "  },\n",
      "  {\n",
      "    \"sentiment\": \"negative\",\n",
      "    \"summary\": \"There is no online ordering and calzones are missing.\"\n",
      "  },\n",
      "  {\n",
      "    \"sentiment\": \"negative\",\n",
      "    \"summary\": \"The pizza is expensive and the seating is uncomfortable and dirty.\"\n",
      "  }\n",
      "]\n"
     ]
    }
   ],
   "source": [
    "import json\n",
    "\n",
    "pluginsDirectory = \"./plugins-sk\"\n",
    "\n",
    "strength_questions = [\"What unique recipes or ingredients does the pizza shop use?\",\"What are the skills and experience of the staff?\",\"Does the pizza shop have a strong reputation in the local area?\",\"Are there any unique features of the shop or its location that attract customers?\", \"Does the pizza shop have a strong reputation in the local area?\", \"Are there any unique features of the shop or its location that attract customers?\"]\n",
    "weakness_questions = [\"What are the operational challenges of the pizza shop? (e.g., slow service, high staff turnover)\",\"Are there financial constraints that limit growth or improvements?\",\"Are there any gaps in the product offering?\",\"Are there customer complaints or negative reviews that need to be addressed?\"]\n",
    "opportunities_questions = [\"Is there potential for new products or services (e.g., catering, delivery)?\",\"Are there under-served customer segments or market areas?\",\"Can new technologies or systems enhance the business operations?\",\"Are there partnerships or local events that can be leveraged for marketing?\"]\n",
    "threats_questions = [\"Who are the major competitors and what are they offering?\",\"Are there potential negative impacts due to changes in the local area (e.g., construction, closure of nearby businesses)?\",\"Are there economic or industry trends that could impact the business negatively (e.g., increased ingredient costs)?\",\"Is there any risk due to changes in regulations or legislation (e.g., health and safety, employment)?\"]\n",
    "\n",
    "strengths = [ \"Unique garlic pizza recipe that wins top awards\",\"Owner trained in Sicily\",\"Strong local reputation\",\"Prime location on university campus\" ]\n",
    "weaknesses = [ \"High staff turnover\",\"Floods in the area damaged the seating areas that are in need of repair\",\"Absence of popular calzones from menu\",\"Negative reviews from younger demographic for lack of hip ingredients\" ]\n",
    "opportunities = [ \"Untapped catering potential\",\"Growing local tech startup community\",\"Unexplored online presence and order capabilities\",\"Upcoming annual food fair\" ]\n",
    "threats = [ \"Competition from cheaper pizza businesses nearby\",\"There's nearby street construction that will impact foot traffic\",\"Rising cost of cheese will increase the cost of pizzas\",\"No immediate local regulatory changes but it's election season\" ]\n",
    "\n",
    "customer_comments = \"\"\"\n",
    "Customer 1: The seats look really raggedy.\n",
    "Customer 2: The garlic pizza is the best on this earth.\n",
    "Customer 3: I've noticed that there's a new server every time I visit, and they're clueless.\n",
    "Customer 4: Why aren't there calzones?\n",
    "Customer 5: I love the garlic pizza and can't get it anywhere else.\n",
    "Customer 6: The garlic pizza is exceptional.\n",
    "Customer 7: I prefer a calzone's portable nature as compared with pizza.\n",
    "Customer 8: Why is the pizza so expensive?\n",
    "Customer 9: There's no way to do online ordering.\n",
    "Customer 10: Why is the seating so uncomfortable and dirty?\n",
    "\"\"\"\n",
    "\n",
    "pluginDT = kernel.import_semantic_skill_from_directory(pluginsDirectory, \"DesignThinking\");\n",
    "my_result = await kernel.run_async(pluginDT[\"Empathize\"], input_str=customer_comments)\n",
    "\n",
    "display(Markdown(\"## ✨ The categorized observations from the 'Empathize' phase of design thinking\\n\"))\n",
    "\n",
    "print(json.dumps(json.loads(str(my_result)), indent=2))"
   ]
  },
  {
   "cell_type": "code",
   "execution_count": 3,
   "metadata": {},
   "outputs": [
    {
     "data": {
      "text/markdown": [
       "## ✨ The categorized observations from the 'Empathize' + 'Define' phases of design thinking\n",
       "| Analysis | Definition | Possible Source |\n",
       "| --- | --- | --- |\n",
       "| Raggedy and uncomfortable seats | Customers complain about the condition and comfort of the seats | Lack of maintenance or investment in seating |\n",
       "| Exceptional garlic pizza | Customers praise the quality and taste of the garlic pizza | High-quality ingredients and skilled chefs |\n",
       "| Clueless servers | Customers express frustration with inexperienced servers | High turnover rate or lack of proper training |\n",
       "| Absence of calzones | Customers are disappointed by the lack of calzones on the menu | Menu selection or decision by management |\n",
       "| Expensive pizza with no online ordering | Customers find the pizza overpriced and desire online ordering option | Pricing strategy and lack of online platform |"
      ],
      "text/plain": [
       "<IPython.core.display.Markdown object>"
      ]
     },
     "metadata": {},
     "output_type": "display_data"
    }
   ],
   "source": [
    "my_result = await kernel.run_async(pluginDT[\"Empathize\"], pluginDT[\"Define\"], input_str = customer_comments)\n",
    "\n",
    "display(Markdown(\"## ✨ The categorized observations from the 'Empathize' + 'Define' phases of design thinking\\n\"+str(my_result)))"
   ]
  },
  {
   "cell_type": "code",
   "execution_count": 4,
   "metadata": {},
   "outputs": [
    {
     "data": {
      "text/markdown": [
       "## ✨ The categorized observations from the 'Empathize' + 'Define' + 'Ideate' + 'Prototype' + phases of design thinking\n",
       "1. Replace or repair seats to improve comfort:\n",
       "- Create a simple paper layout of the seating area, indicating the current seats that need to be replaced or repaired.\n",
       "- Use cut-out paper seats to represent the new seats that will be installed or the repairs that will be made.\n",
       "- Discuss with the other party the specific areas or seats that need attention and get their feedback on the proposed changes.\n",
       "\n",
       "2. Train servers on menu knowledge and customer service skills:\n",
       "- Design a paper menu with different food items and descriptions.\n",
       "- Create flashcards with common customer service scenarios and appropriate responses.\n",
       "- Role-play with the other party, taking turns being the server and the customer, using the menu and flashcards to practice menu knowledge and customer service skills.\n",
       "\n",
       "3. Offer a limited-time promotion for garlic pizza to attract more customers:\n",
       "- Design a paper flyer or coupon promoting the limited-time garlic pizza offer.\n",
       "- Discuss with the other party the details of the promotion, such as the duration, discount, and any additional incentives.\n",
       "- Ask the other party if they would be interested in trying the garlic pizza based on the promotion and gather their feedback.\n",
       "\n",
       "4. Increase the variety of menu options to include calzones:\n",
       "- Create a paper menu with the current menu options and a blank space for the calzones.\n",
       "- Use cut-out paper shapes to represent different calzone options that could be added to the menu.\n",
       "- Discuss with the other party their preferences for calzone flavors and ingredients, and place the cut-out paper calzones on the menu accordingly.\n",
       "\n",
       "5. Implement an online ordering system to improve convenience for customers:\n",
       "- Design a paper prototype of a website or mobile app interface for online ordering.\n",
       "- Use paper buttons and forms to simulate the ordering process, including selecting items, adding to cart, and entering delivery details.\n",
       "- Walk the other party through the paper prototype, explaining how they would navigate and place an order online.\n",
       "\n",
       "6. Conduct regular maintenance checks on seats to ensure they remain in good condition:\n",
       "- Create a paper checklist with different maintenance tasks related to the seats.\n",
       "- Use checkboxes or tick marks to indicate completed tasks or areas that need attention.\n",
       "- Demonstrate to the other party how to use the checklist and perform a mock maintenance check on the paper seats.\n",
       "\n",
       "7. Provide training sessions for new servers to improve their knowledge and skills:\n",
       "- Design a paper training manual with sections covering menu knowledge and customer service skills.\n",
       "- Include written instructions, diagrams, and examples in the manual.\n",
       "- Role-play with the other party, using the manual as a guide to train them on different aspects of serving, such as taking orders and handling customer complaints.\n",
       "\n",
       "8. Offer discounts or promotions for online orders to incentivize customers:\n",
       "- Create paper coupons or discount codes with different offers.\n",
       "- Discuss with the other party the various discount options and their potential impact on attracting online orders.\n",
       "- Ask the other party if they would be more likely to place an online order with the provided discounts and gather their feedback.\n",
       "\n",
       "9. Create a customer feedback system to address concerns and improve service:\n",
       "- Design a paper feedback form with different sections for customers to provide their feedback.\n",
       "- Include questions about their dining experience, suggestions for improvement, and any specific concerns.\n",
       "- Ask the other party to fill out the paper feedback form, discussing their thoughts and suggestions for addressing concerns and improving service.\n",
       "\n",
       "10. Conduct a market analysis to identify competitors' pricing strategies:\n",
       "- Create a paper chart or table to compare the prices of different pizza competitors.\n",
       "- Use cut-out paper labels to represent each competitor and their respective prices.\n",
       "- Discuss with the other party the findings from the market analysis, showing them the paper chart and asking for their input on pricing strategies based on the competition."
      ],
      "text/plain": [
       "<IPython.core.display.Markdown object>"
      ]
     },
     "metadata": {},
     "output_type": "display_data"
    }
   ],
   "source": [
    "my_result = await kernel.run_async(pluginDT[\"Empathize\"], pluginDT[\"Define\"], pluginDT[\"Ideate\"], pluginDT[\"PrototypeWithPaper\"], input_str=customer_comments)\n",
    "\n",
    "display(Markdown(\"## ✨ The categorized observations from the 'Empathize' + 'Define' + 'Ideate' + 'Prototype' + phases of design thinking\\n\"+str(my_result)))"
   ]
  },
  {
   "cell_type": "code",
   "execution_count": 6,
   "metadata": {},
   "outputs": [
    {
     "data": {
      "text/markdown": [
       "### ✨ The 40-year old man who is in a bad mood may have a range of reactions to the loyalty card experience at the bar. Here are some possible reactions:\n",
       "\n",
       "1. Indifference: The man may not pay much attention to the loyalty card and simply ignore it, as he is already in a bad mood and not interested in any additional offers or rewards.\n",
       "\n",
       "2. Frustration: If the man perceives the loyalty card as an unnecessary hassle or a marketing gimmick, he may become frustrated and annoyed by its presence. He might feel that it adds complexity to his bar experience, which he may not appreciate after a long shift at work.\n",
       "\n",
       "3. Curiosity: Despite his bad mood, the man might find the loyalty card intriguing and decide to read the details. He may become interested in the rewards and how to earn points, which could momentarily distract him from his bad mood.\n",
       "\n",
       "4. Skepticism: The man may view the loyalty card with skepticism, questioning the actual value of the rewards and doubting whether it is worth his time and effort to participate. He may be hesitant to believe that the rewards are genuinely beneficial.\n",
       "\n",
       "5. Positivity: Surprisingly, the loyalty card might have a positive impact on the man's mood. If he discovers that the rewards are appealing and attainable, he may feel a sense of excitement or anticipation. This positive reaction could potentially uplift his mood and make him more open to enjoying his time at the bar.\n",
       "\n",
       "Overall, the man's reaction to the loyalty card experience will depend on his personal mindset, his perception of the rewards and their value, and how receptive he is to additional offers during his visit to the bar."
      ],
      "text/plain": [
       "<IPython.core.display.Markdown object>"
      ]
     },
     "metadata": {},
     "output_type": "display_data"
    }
   ],
   "source": [
    "sk_prompt = \"\"\"\n",
    "A 40-year old man who has just finished his shift at work and comes into the bar. They are in a bad mood.\n",
    "\n",
    "They are given an experience like:\n",
    "{{$input}}\n",
    "\n",
    "Summarize their possible reactions to this experience.\n",
    "\"\"\"\n",
    "test_function = kernel.create_semantic_function(prompt_template=sk_prompt,\n",
    "                                                    description=\"Simulates reaction to an experience.\",\n",
    "                                                    max_tokens=1000,\n",
    "                                                    temperature=0.1,\n",
    "                                                    top_p=0.5)\n",
    "sk_input=\"\"\"\n",
    "A simple loyalty card that includes details such as the rewards for each level of loyalty, how to earn points, and how to redeem rewards is given to every person visiting the bar.\n",
    "\"\"\"\n",
    "\n",
    "test_result = await kernel.run_async(test_function, input_str=sk_input) \n",
    "\n",
    "display(Markdown(\"### ✨ \" + str(test_result)))"
   ]
  },
  {
   "cell_type": "code",
   "execution_count": null,
   "metadata": {},
   "outputs": [],
   "source": []
  }
 ],
 "metadata": {
  "kernelspec": {
   "display_name": "llms",
   "language": "python",
   "name": "python3"
  },
  "language_info": {
   "codemirror_mode": {
    "name": "ipython",
    "version": 3
   },
   "file_extension": ".py",
   "mimetype": "text/x-python",
   "name": "python",
   "nbconvert_exporter": "python",
   "pygments_lexer": "ipython3",
   "version": "3.10.12"
  }
 },
 "nbformat": 4,
 "nbformat_minor": 2
}
