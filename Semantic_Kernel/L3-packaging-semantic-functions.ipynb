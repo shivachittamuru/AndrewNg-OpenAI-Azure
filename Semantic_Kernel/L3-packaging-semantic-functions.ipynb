{
 "cells": [
  {
   "cell_type": "code",
   "execution_count": 1,
   "metadata": {},
   "outputs": [
    {
     "name": "stdout",
     "output_type": "stream",
     "text": [
      "A kernel is now ready.\n"
     ]
    }
   ],
   "source": [
    "import semantic_kernel as sk\n",
    "from semantic_kernel.connectors.ai.open_ai import AzureChatCompletion, OpenAIChatCompletion\n",
    "from IPython.display import display, Markdown\n",
    "\n",
    "kernel = sk.Kernel()\n",
    "\n",
    "useAzureOpenAI = True\n",
    "\n",
    "if useAzureOpenAI:\n",
    "    deployment, api_key, endpoint = sk.azure_openai_settings_from_dot_env()\n",
    "    kernel.add_text_completion_service(\"azureopenai\", AzureChatCompletion(deployment, endpoint, api_key))\n",
    "else:\n",
    "    api_key, org_id = sk.openai_settings_from_dot_env()\n",
    "    kernel.add_text_completion_service(\"openai\", OpenAIChatCompletion(\"gpt-3.5-turbo-0301\", api_key, org_id))\n",
    "\n",
    "print(\"A kernel is now ready.\")    "
   ]
  },
  {
   "cell_type": "markdown",
   "metadata": {},
   "source": [
    "```directory\n",
    "plugins-sk/\n",
    "│\n",
    "└─── BusinessThinking/\n",
    "     |\n",
    "     └─── BasicStrategies/\n",
    "     |    └─── config.json\n",
    "     |    └─── skprompt.txt\n",
    "     |\n",
    "     └─── SeekCostEfficiency/\n",
    "     |    └─── config.json\n",
    "     |    └─── skprompt.txt\n",
    "     |\n",
    "     └─── SeekTimeEfficiency/\n",
    "          └─── config.json\n",
    "          └─── skprompt.txt\n",
    "```"
   ]
  },
  {
   "cell_type": "code",
   "execution_count": 4,
   "metadata": {},
   "outputs": [
    {
     "data": {
      "text/markdown": [
       "### ✨ Suggestions for how to gain cost efficiencies\n",
       "| Title | Strength | Weakness | Description |\n",
       "| ----- | -------- | -------- | ----------- |\n",
       "| Streamline operations | Strong local reputation | High staff turnover | Implementing efficient processes and systems to reduce staff turnover and improve productivity. This can include better training programs, clear job descriptions, and effective communication channels. |\n",
       "| Repair seating areas in-house | Prime location on university campus | Floods damaging seating areas | Instead of hiring external contractors, the business can save costs by repairing the seating areas in-house. This can involve training staff or hiring a dedicated maintenance team to handle repairs and renovations. |\n",
       "| Introduce popular calzones to the menu | Unique garlic pizza recipe that wins top awards | Absence of popular calzones from menu | By adding popular calzones to the menu, the business can attract a wider customer base and increase sales. This can be achieved by researching popular calzone recipes, sourcing affordable ingredients, and promoting the new menu items effectively. |"
      ],
      "text/plain": [
       "<IPython.core.display.Markdown object>"
      ]
     },
     "metadata": {},
     "output_type": "display_data"
    }
   ],
   "source": [
    "strengths = [ \"Unique garlic pizza recipe that wins top awards\",\"Owner trained in Sicily at some of the best pizzerias\",\"Strong local reputation\",\"Prime location on university campus\" ]\n",
    "weaknesses = [ \"High staff turnover\",\"Floods in the area damaged the seating areas that are in need of repair\",\"Absence of popular calzones from menu\",\"Negative reviews from younger demographic for lack of hip ingredients\" ]\n",
    "\n",
    "pluginsDirectory = \".\\plugins-sk\"\n",
    "\n",
    "pluginBT = kernel.import_semantic_skill_from_directory(pluginsDirectory, \"BusinessThinking\");\n",
    "\n",
    "my_context = kernel.create_new_context()\n",
    "my_context['input'] = 'makes pizzas'\n",
    "my_context['strengths'] = \", \".join(strengths)\n",
    "my_context['weaknesses'] = \", \".join(weaknesses)\n",
    "\n",
    "costefficiency_result = await kernel.run_async(pluginBT[\"SeekCostEfficiency\"], input_context=my_context)\n",
    "costefficiency_str = str(\"### ✨ Suggestions for how to gain cost efficiencies\\n\" + str(costefficiency_result))\n",
    "display(Markdown(costefficiency_str))"
   ]
  },
  {
   "cell_type": "code",
   "execution_count": 5,
   "metadata": {},
   "outputs": [
    {
     "data": {
      "text/markdown": [
       "## ✨ Business strategy thinking based on SWOT analysis\n",
       "### Building on strengths can immediately improve the business\n",
       "\n",
       "| Title | Strength | Weakness | Description |\n",
       "| ----- | -------- | -------- | ----------- |\n",
       "| Expand menu with popular calzones | Unique garlic pizza recipe that wins top awards | Absence of popular calzones from menu | Add popular calzones to the menu to attract customers who are looking for variety and expand the customer base. |\n",
       "| Enhance seating area and ambiance | Strong local reputation, Prime location on university campus | Floods in the area damaged the seating areas that are in need of repair | Invest in repairing and renovating the seating areas to provide a comfortable and attractive dining experience, which will attract more customers and improve customer satisfaction. |\n",
       "| Incorporate hip ingredients in new pizza offerings | Strong local reputation | Negative reviews from younger demographic for lack of hip ingredients | Introduce new pizza options with trendy and hip ingredients to cater to the preferences of the younger demographic and attract more customers from this target market segment. |\n",
       "\n",
       "### Taking advantage of opportunities whenever possible\n",
       "\n",
       "| Title | Opportunity | Description |\n",
       "| ----- | -------- | ----------- |\n",
       "| Launch catering services | Untapped catering potential | Tap into the untapped market of catering services by offering customized pizza options for events, parties, and corporate gatherings. This will provide an additional revenue stream and expand the customer base. |\n",
       "| Develop online presence and order capabilities | Unexplored online presence and order capabilities | Create a user-friendly website and mobile app for online ordering and delivery services. This will cater to the growing demand for online food ordering and attract tech-savvy customers. |\n",
       "| Participate in the upcoming annual food fair | Upcoming annual food fair | Showcase the unique garlic pizza recipe and other specialty pizzas at the food fair to increase brand visibility, attract new customers, and generate buzz around the business. |\n",
       "\n",
       "### Building resilience to threats is always a good idea\n",
       "\n",
       "| Title | Threat | Description |\n",
       "| ----- | -------- | ----------- |\n",
       "| Focus on quality and unique offerings to differentiate from cheaper pizza businesses nearby | Competition from cheaper pizza businesses nearby | Emphasize the unique garlic pizza recipe, high-quality ingredients, and the award-winning reputation to differentiate the business from cheaper alternatives and retain loyal customers. |\n",
       "| Collaborate with nearby businesses during street construction to maintain foot traffic | There's nearby street construction that will impact foot traffic | Partner with neighboring businesses to promote each other's offerings and provide incentives for customers to visit despite the inconvenience caused by the street construction. |\n",
       "| Diversify cheese suppliers and explore cost-saving alternatives | Rising cost of cheese will increase the cost of pizzas | Research and identify alternative cheese suppliers or explore cost-saving measures such as bulk purchasing or negotiating better deals to mitigate the impact of rising cheese costs on the business's profitability. |"
      ],
      "text/plain": [
       "<IPython.core.display.Markdown object>"
      ]
     },
     "metadata": {},
     "output_type": "display_data"
    }
   ],
   "source": [
    "opportunities = [ \"Untapped catering potential\",\"Growing local tech startup community\",\"Unexplored online presence and order capabilities\",\"Upcoming annual food fair\" ]\n",
    "threats = [ \"Competition from cheaper pizza businesses nearby\",\"There's nearby street construction that will impact foot traffic\",\"Rising cost of cheese will increase the cost of pizzas\",\"No immediate local regulatory changes but it's election season\" ]\n",
    "\n",
    "pluginBT = kernel.import_semantic_skill_from_directory(pluginsDirectory, \"BusinessThinking\");\n",
    "\n",
    "my_context = kernel.create_new_context()\n",
    "my_context['input'] = 'makes pizzas'\n",
    "my_context['strengths'] = \", \".join(strengths)\n",
    "my_context['weaknesses'] = \", \".join(weaknesses)\n",
    "my_context['opportunities'] = \", \".join(opportunities)\n",
    "my_context['threats'] = \", \".join(threats)\n",
    "\n",
    "bizstrat_result = await kernel.run_async(pluginBT[\"BasicStrategies\"],input_context=my_context)\n",
    "bizstrat_str = \"## ✨ Business strategy thinking based on SWOT analysis\\n\"+str(bizstrat_result)\n",
    "display(Markdown(bizstrat_str))"
   ]
  },
  {
   "cell_type": "code",
   "execution_count": null,
   "metadata": {},
   "outputs": [],
   "source": []
  }
 ],
 "metadata": {
  "kernelspec": {
   "display_name": "llms",
   "language": "python",
   "name": "python3"
  },
  "language_info": {
   "codemirror_mode": {
    "name": "ipython",
    "version": 3
   },
   "file_extension": ".py",
   "mimetype": "text/x-python",
   "name": "python",
   "nbconvert_exporter": "python",
   "pygments_lexer": "ipython3",
   "version": "3.10.12"
  }
 },
 "nbformat": 4,
 "nbformat_minor": 2
}
