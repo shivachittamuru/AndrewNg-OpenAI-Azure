{
 "cells": [
  {
   "cell_type": "code",
   "execution_count": 4,
   "metadata": {},
   "outputs": [
    {
     "name": "stdout",
     "output_type": "stream",
     "text": [
      "Name: azure-search-documents\n",
      "Version: 11.4.0a20230509004\n",
      "Summary: Microsoft Azure Cognitive Search Client Library for Python\n",
      "Home-page: https://github.com/Azure/azure-sdk-for-python/tree/main/sdk/search/azure-search-documents\n",
      "Author: Microsoft Corporation\n",
      "Author-email: ascl@microsoft.com\n",
      "License: MIT License\n",
      "Location: C:\\Users\\shchitt\\AppData\\Local\\anaconda3\\envs\\aoai\\Lib\\site-packages\n",
      "Requires: azure-common, azure-core, isodate\n",
      "Required-by: \n"
     ]
    }
   ],
   "source": [
    "# Private Preview edition\n",
    "# ! pip install --index-url=https://pkgs.dev.azure.com/azure-sdk/public/_packaging/azure-sdk-for-python/pypi/simple/ azure-search-documents==11.4.0a20230509004\n",
    "! pip show azure-search-documents"
   ]
  },
  {
   "cell_type": "code",
   "execution_count": 5,
   "metadata": {},
   "outputs": [
    {
     "data": {
      "text/plain": [
       "True"
      ]
     },
     "execution_count": 5,
     "metadata": {},
     "output_type": "execute_result"
    }
   ],
   "source": [
    "# loading the API keys in environment variables\n",
    "import os\n",
    "import os, json\n",
    "import openai\n",
    "from langchain.embeddings.openai import OpenAIEmbeddings\n",
    "from langchain.vectorstores.azuresearch import AzureSearch\n",
    "\n",
    "from dotenv import load_dotenv, find_dotenv\n",
    "load_dotenv(find_dotenv(), override=True)"
   ]
  },
  {
   "cell_type": "code",
   "execution_count": 6,
   "metadata": {},
   "outputs": [],
   "source": [
    "openai.api_key = os.environ['OPENAI_API_KEY']\n",
    "openai.api_base = os.environ['OPENAI_API_BASE']\n",
    "openai.api_type = os.environ['OPENAI_API_TYPE']\n",
    "openai.api_version = os.environ['OPENAI_API_VERSION']\n",
    "\n",
    "text_model = os.environ['TEXT_DAVINCI_MODEL_NAME']\n",
    "chat_model = os.environ['CHAT_MODEL_NAME']\n",
    "embedding_model = os.environ['EMBEDDING_MODEL_NAME']"
   ]
  },
  {
   "cell_type": "code",
   "execution_count": 7,
   "metadata": {},
   "outputs": [],
   "source": [
    "vector_store_endpoint: str = os.environ['AZURE_COGNITIVE_SEARCH_ENDPOINT']\n",
    "vector_store_password: str = os.environ['AZURE_COGNITIVE_SEARCH_KEY']\n",
    "index_name: str = \"langchain-vector-demo\""
   ]
  },
  {
   "cell_type": "code",
   "execution_count": 8,
   "metadata": {},
   "outputs": [
    {
     "data": {
      "text/plain": [
       "langchain.embeddings.openai.OpenAIEmbeddings"
      ]
     },
     "execution_count": 8,
     "metadata": {},
     "output_type": "execute_result"
    }
   ],
   "source": [
    "embeddings: OpenAIEmbeddings = OpenAIEmbeddings(model=embedding_model, chunk_size=1)\n",
    "type(embeddings)"
   ]
  },
  {
   "cell_type": "code",
   "execution_count": 9,
   "metadata": {},
   "outputs": [],
   "source": [
    "vector_store: AzureSearch = AzureSearch(\n",
    "    azure_search_endpoint=vector_store_endpoint,\n",
    "    azure_search_key=vector_store_password,\n",
    "    index_name=index_name,\n",
    "    embedding_function=embeddings.embed_query,\n",
    ")"
   ]
  },
  {
   "cell_type": "code",
   "execution_count": 11,
   "metadata": {},
   "outputs": [
    {
     "data": {
      "text/plain": [
       "84"
      ]
     },
     "execution_count": 11,
     "metadata": {},
     "output_type": "execute_result"
    }
   ],
   "source": [
    "from langchain.document_loaders import TextLoader\n",
    "from langchain.text_splitter import RecursiveCharacterTextSplitter\n",
    "\n",
    "loader = TextLoader(\"./churchill_speech.txt\", encoding=\"utf-8\")\n",
    "\n",
    "documents = loader.load()\n",
    "text_splitter = RecursiveCharacterTextSplitter(chunk_size=300, chunk_overlap=20)\n",
    "docs = text_splitter.split_documents(documents)\n",
    "len(docs)"
   ]
  },
  {
   "cell_type": "code",
   "execution_count": 10,
   "metadata": {},
   "outputs": [
    {
     "data": {
      "text/plain": [
       "['ZmJiZGIzNzYtNWUzYS00YWIwLTlhZDgtMzlkMGI2YmFlZjNi',\n",
       " 'NTU5YmIyZTgtMTZiZS00ZTAwLWJmYjYtNTkzZTVmYjFmMDZi',\n",
       " 'ZGNmOTY4OGItYzlhOS00OTY3LWI5ZDAtNjc1Y2RmZGJiMzE3',\n",
       " 'NzEzZmU1NTYtZTliNy00NzIwLWI3N2QtNzlkODQwYzc4ZjQ1',\n",
       " 'ZGU0ZDUyNTktM2YwYy00Yjk4LTk2YjEtYTQxOGRiOTYzY2Zm',\n",
       " 'OTBiOGNjN2ItOGIyNy00NGM5LTk2Y2EtYzYzNGE1MjcyOThi',\n",
       " 'ZmM5NDNhNGItYWExOC00YzUwLTg5ZjktZmRhY2E5Mzc2MWFi',\n",
       " 'ZWRkMTAyYmMtODVjYi00NTM1LTlkN2MtZWZmMWU2NjdiMmI4',\n",
       " 'ZWVjMWRjZTItYTExNi00NzU3LTk2YTUtZWVmYjgyNjgyZmIy',\n",
       " 'ZDFiODYyMmMtNjY5OS00MzA4LTk4MmItNWVmMjUxM2Q2YzE3',\n",
       " 'ODYyNDBmMDItYjE0Ni00ZTVlLTgxNTItNmRkOTdiZjdhYTBm',\n",
       " 'ZGZhZjJiOWUtMGYxMi00MjM4LWE4MmMtMDRiZGU1OGQwNDJi',\n",
       " 'ZDU1NGFlMDUtNjlhNy00MWU1LTliN2YtNzdmYjZjOTg4N2U2',\n",
       " 'YjYwZjNlZWMtMjYxNi00ZWRiLWFjZWEtODVlNDg4Yzg1NTJm',\n",
       " 'ZmU0NDRjYmQtZTI1YS00ZGEyLWI0MzktMDhlYmVlMGU5ZmU0',\n",
       " 'ZjUwMmYwMzMtZmQ0YS00ZDMxLThmYzctYzY3NzNmY2I2Njlk',\n",
       " 'MjEyNjM0MWQtMTMwZi00Nzg0LWEzZDgtMjdmYTlmZTMyODI5',\n",
       " 'MTBkMmRkZWQtZjRmMy00NGIxLThkM2ItYjQ5ZDFkYjQ2MWQ0',\n",
       " 'ZjZhMzdhNTgtMDI5Yi00NGQ3LTk1ZWUtZDhkZjQ5ZjJkMjQ3',\n",
       " 'ZWM3NzE1NzctZWVlYS00ZjhiLThkNDktMTA2YTNlODA2Yjhj',\n",
       " 'MTljNjlkNjMtMzg2Yi00NTI3LWE3OTItNDE2Y2VmMmIyODli',\n",
       " 'NzA5MzI1ODItMzBjMy00NmE5LTg4NmUtNjIwZWYxODBlZDI1',\n",
       " 'NjI2YWFjNjktNmUwYi00YjRlLWE1NTMtOWY4NDQ1MTJmMWU5',\n",
       " 'NWRkYTE5NjItNzk5MC00MDYyLWFhMzctODBmYjU0MmM2ODE1',\n",
       " 'NDRlNzkwZjItOTY0My00NGUzLWFhNjMtMWU3ODEzODYyN2Iw',\n",
       " 'ZmUxMzRkYWYtMWYxYi00MTNmLTk1NjgtNzRjMjBjY2ZkZTgw',\n",
       " 'NWE3NDY2MGMtMzRiNS00OGJiLWJlMjUtY2M4ODRlOTkxN2Mw',\n",
       " 'YWRhZmYwYWMtZmZjNC00MmFiLTgzODktOWM5Y2MzOTc5OWEy',\n",
       " 'YTQ1Njk5M2ItZWFlMS00MDcwLWFiMzYtMTNmZWQ2YThiZTI4',\n",
       " 'YjJjNzk3YmUtOThiMy00ZGQwLTk4OWUtMTJiMmNjNzEyNGMz',\n",
       " 'ODIxM2JkZmYtMWQ0OS00YjllLTgxNWUtZTQ0OWU2NzVkMjU1',\n",
       " 'MWNmMDE2OGQtNDRmMS00ODgwLWFhMTUtODE0Zjk3ZmFmMDBk',\n",
       " 'YjU4NDljNzktN2IwOC00YmVjLThlOWYtNzg3ZTIzM2FkNDk1',\n",
       " 'MjA4YzFiY2EtNzlkZi00NzcxLTg2YTctZjRhMzcyZDc5OGE2',\n",
       " 'ZGVkNjlhMzgtZWEwOC00ZGE4LThhNWMtNDQ5OTcxZGNjNmVm',\n",
       " 'OTQyZDRkMWUtYjg5MS00MTkwLTg2MTYtZmQyZWRhNmYzMzhk',\n",
       " 'NjU3NjEyN2QtOTZjMS00NmUyLWJkNmYtYmVmNmRhZDY4Zjlj',\n",
       " 'MDU3NzE4MTQtY2U3NS00YzBmLWFlMmItNDUxNDEwNDE2M2Vj',\n",
       " 'NWQxNTBjNjUtZTNlOC00NzIwLWI5NTktYjc2MTAyMTZhMGEw',\n",
       " 'ZTBiOGE5OTAtMGMwMC00Mzg5LThjMzEtNzU0MDRjOGVlZTg3',\n",
       " 'MTgwNzY3OWMtOTBlYy00Mzk3LTk2ZjktNDkzNDc0ODE1MDU5',\n",
       " 'NTBmMjIxOGMtYTg4NC00MmFhLWEwYmYtYWVjMzI3YzU1ZjM4',\n",
       " 'MzEzMDMyYjUtYWE1Mi00YTk1LWJkMDUtMjA2NmI3Y2U1YmY4',\n",
       " 'MDRiYWRiNWYtMzcyNy00YTRiLWE2OTgtNWJjN2ZjMmU5MTA4',\n",
       " 'NDhmYmMyYzEtNjkzOS00NzdlLTg4OWEtOGY5NzIxODBmZTUy',\n",
       " 'NGM3YzI1ODctZDRhYi00NjE1LThhMjAtMjQyZWNhZWQxODcw',\n",
       " 'M2FlN2MzN2UtMjMwYi00NDY3LTgzNjMtOGU5MzJlZjc4ZTY1',\n",
       " 'MzVmMTRkMTItOGI1Ni00MTk5LTkwNGYtYTgwOGM3YzE0MTlm',\n",
       " 'ZTc4YjEzMzYtZWY5YS00NDE2LWI4MWMtNTU3NWI3NjQ4NzI3',\n",
       " 'ZTQ5N2YxY2MtMTU2Yi00NGNjLTkwNTItOWJmZTM1NjJlNzE4',\n",
       " 'MTViMmYzZTktZDg4Ni00ZjVlLTkyZDUtOTRmMjQwMTY2ZDEy',\n",
       " 'MjhiNTBiMzgtZDJjNC00NjcyLWIwZjUtYjNhOWFmZDY0NTQy',\n",
       " 'NWM2M2M3ZDctNzM2Ny00Yjk4LTg4NDMtYjJmOTRhNzhkOWY4',\n",
       " 'MmFkMDdkYTQtZTM0My00ODNhLTgzNDAtZjVjOWE5YWQwZDFm',\n",
       " 'NzMyOGViZWQtZGYzMC00YWM0LWIxYzQtMjk3N2JmZDZmZDNk',\n",
       " 'NGEwNWM1MGQtNjdiMS00NGUwLWJkODYtYjQ5Y2MyZGU4NTk2',\n",
       " 'ODBlOGNjYmYtMzJiYi00MmViLTgxMWMtNTYwNjg2MWQwZmI0',\n",
       " 'NWQ3ZmEzMDctZmI0OC00OTE1LTlhZmEtN2VlZmM1MjY1YjA4',\n",
       " 'NDUxZmRkMzgtMTExYS00MmY2LTlkMGYtZjUwZmYwMDZiZWU2',\n",
       " 'YjZmMWM5MjEtZWU2MS00ZTczLTg3NWQtYTJmNjNmZmYwODJk',\n",
       " 'M2NkZjkzZWItYzZjOC00MWRjLWE2MGYtYmE4YmMyMTRmODFj',\n",
       " 'ZGIxZmY4OTUtZDhiMC00NjExLWJjZGYtMjhjZjA0ZmU4YTRh',\n",
       " 'OGU1NjJiMGYtYmVkNS00NjM0LWJkMmMtOGU3ZjdkZTAzYjUw',\n",
       " 'YjUwMDU5NDctMGExNC00ODYzLTlhY2MtMDdmOTQ3MDY2M2Vi',\n",
       " 'ZWNiYmE3NWQtZmQ0Ni00N2YzLTk1NmMtZGZjYzk0ZTE3Njcx',\n",
       " 'YWQxNzQyOTYtNmU0OS00YjFlLWE1YjItMzYyODIzZTBmNjkx',\n",
       " 'ODQ4ZTUzN2EtODExZi00MzE0LTk4ZDYtOWQ1M2EwY2VhNzAw',\n",
       " 'YmVjYjdlMGEtMTgwOS00NTllLTljOTMtNmY2Yjk5YTg2MzNm',\n",
       " 'OTU0YmEyMTUtOTY1OS00YjNkLWE3MTMtN2IzYjE2M2ZlYjVk',\n",
       " 'M2U4YzNiZWUtY2YyNy00NWQyLWFmNWYtMjBkY2Q3OTk3NDlm',\n",
       " 'YThmZDVhM2UtNjJmYS00MGRjLWIzMmUtYzFmZGM3NTc5YWE5',\n",
       " 'YzI2OTlmNjAtOTI4YS00MmVjLThhMzItN2RhM2YwZmY0NDM4',\n",
       " 'ZjBiMTc5ZDAtOTM3OC00M2JkLTg0NmItMzc0NTNmODNjYzBm',\n",
       " 'YTI0ZTNiNDgtNzZjYy00YmIyLWIxODMtZTk2Yzg1NDJiYzkw',\n",
       " 'NjljMjFmNjAtYTRmZi00ZWExLWI4OTAtZjhmNGUwMjUxNTQ3',\n",
       " 'ODczZTk2M2ItYTVhNi00MWZkLTk1Y2QtYjRiMWRkZjM0Y2E2',\n",
       " 'NTY3OTVhMTUtMmNjMS00NjQ2LTk1NzItMWU2MmViZGE1Y2Vi',\n",
       " 'NTkyN2I4MTktMzc2ZS00ZmE1LTkzZTItZDMxNmM0YjhjN2Nl',\n",
       " 'YmUwYzJhZDEtMTBmMi00ZDM1LWI5YzYtNDkzYmVkYmY1M2Qy',\n",
       " 'NjExNDFkNzEtMmQxNC00Yzc4LWFiMDgtNDY4NGFjMjhkYTcx',\n",
       " 'NTJhYzY3ZmItOTUyNS00ZDcxLThkNjYtN2Q4YWE0YTMwMmFm',\n",
       " 'YmQ4YTlmOTYtMzJjMC00NzlmLTk1NWEtYmNiZGQ3YzU4YjJj',\n",
       " 'MjFmMzRlYmYtNjQyMi00OWNkLTg4MmQtZWI1NmEzNjdmMGEz',\n",
       " 'NmNmNDAyNGEtN2UxMS00ZjdhLWE2ZDEtZGQ0YTNkODEwMGZj']"
      ]
     },
     "execution_count": 10,
     "metadata": {},
     "output_type": "execute_result"
    }
   ],
   "source": [
    "vector_store.add_documents(documents=docs)"
   ]
  },
  {
   "cell_type": "code",
   "execution_count": 12,
   "metadata": {},
   "outputs": [
    {
     "name": "stdout",
     "output_type": "stream",
     "text": [
      "shall fight on the beaches, we shall fight on the landing grounds, we shall fight in the fields and in the\n",
      "streets, we shall fight in the hills; we shall never surrender, and even if, which I do not for a moment\n"
     ]
    }
   ],
   "source": [
    "# Perform a similarity search\n",
    "docs = vector_store.similarity_search(\n",
    "    query=\"Where should we fight?\",\n",
    "    k=3,\n",
    "    search_type=\"similarity\",\n",
    ")\n",
    "print(docs[0].page_content)"
   ]
  },
  {
   "cell_type": "code",
   "execution_count": 13,
   "metadata": {},
   "outputs": [
    {
     "name": "stdout",
     "output_type": "stream",
     "text": [
      "The President of the Board of Trade [Sir Andrew Duncan] is not here today. His son has been killed,\n",
      "and many in the House have felt the pangs of affliction in the sharpest form. But I will say this about\n"
     ]
    }
   ],
   "source": [
    "# Perform a hybrid search - search_type is \"hybrid\" by default\n",
    "docs = vector_store.similarity_search(\n",
    "    query=\"What did the president say about Ketanji Brown Jackson\", k=3\n",
    ")\n",
    "print(docs[0].page_content)"
   ]
  },
  {
   "cell_type": "code",
   "execution_count": 14,
   "metadata": {},
   "outputs": [],
   "source": [
    "\n",
    "from langchain.chat_models import AzureChatOpenAI\n",
    "from langchain.schema import (\n",
    "    AIMessage,\n",
    "    HumanMessage,\n",
    "    SystemMessage\n",
    ")\n",
    "\n",
    "chat = AzureChatOpenAI(temperature=0.2,\n",
    "    max_tokens=500,\n",
    "    openai_api_base=openai.api_base,\n",
    "    openai_api_version=openai.api_version,\n",
    "    deployment_name=chat_model,\n",
    "    openai_api_key=openai.api_key,\n",
    "    openai_api_type = openai.api_type    \n",
    ")"
   ]
  },
  {
   "cell_type": "code",
   "execution_count": 17,
   "metadata": {},
   "outputs": [
    {
     "name": "stdout",
     "output_type": "stream",
     "text": [
      "According to the given context, we should fight on the beaches, landing grounds, fields, streets, hills, in France, on the seas and oceans, and in the air to defend our Island.\n"
     ]
    }
   ],
   "source": [
    "from langchain.chains import RetrievalQA\n",
    "\n",
    "retriever = vector_store.as_retriever(search_type='similarity', search_kwargs={'k': 3})\n",
    "chain = RetrievalQA.from_chain_type(llm=chat, chain_type=\"stuff\", retriever=retriever)\n",
    "\n",
    "query = 'Where should we fight?'\n",
    "answer = chain.run(query)\n",
    "print(answer)"
   ]
  },
  {
   "cell_type": "code",
   "execution_count": null,
   "metadata": {},
   "outputs": [],
   "source": []
  }
 ],
 "metadata": {
  "kernelspec": {
   "display_name": "aoai",
   "language": "python",
   "name": "python3"
  },
  "language_info": {
   "codemirror_mode": {
    "name": "ipython",
    "version": 3
   },
   "file_extension": ".py",
   "mimetype": "text/x-python",
   "name": "python",
   "nbconvert_exporter": "python",
   "pygments_lexer": "ipython3",
   "version": "3.11.3"
  },
  "orig_nbformat": 4
 },
 "nbformat": 4,
 "nbformat_minor": 2
}
