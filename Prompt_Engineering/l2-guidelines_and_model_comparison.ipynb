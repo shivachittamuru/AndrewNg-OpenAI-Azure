{
 "cells": [
  {
   "attachments": {},
   "cell_type": "markdown",
   "id": "7ebe2e9d-685d-4ea3-ab7c-9589caaabff5",
   "metadata": {},
   "source": [
    "# Guidelines for Prompting\n",
    "In this lesson, you'll practice two prompting principles and their related tactics in order to write effective prompts for large language models.\n",
    "\n",
    "## Setup\n",
    "#### Load the API key and relevant Python libaries."
   ]
  },
  {
   "attachments": {},
   "cell_type": "markdown",
   "id": "00bab499-9a50-4bd0-a622-1c914c6ccc29",
   "metadata": {},
   "source": [
    "In this course, we've provided some code that loads the OpenAI API key for you."
   ]
  },
  {
   "cell_type": "code",
   "execution_count": 3,
   "id": "6c382975",
   "metadata": {},
   "outputs": [
    {
     "data": {
      "text/plain": [
       "True"
      ]
     },
     "execution_count": 3,
     "metadata": {},
     "output_type": "execute_result"
    }
   ],
   "source": [
    "import openai\n",
    "import os\n",
    "import json\n",
    "\n",
    "# to address rate limits with Azure OpenAI API\n",
    "from tenacity import retry, stop_after_attempt, wait_random_exponential # for exponential backoff\n",
    "\n",
    "from dotenv import load_dotenv, find_dotenv\n",
    "load_dotenv(find_dotenv())\n",
    "\n"
   ]
  },
  {
   "cell_type": "code",
   "execution_count": 4,
   "id": "ecefb801",
   "metadata": {},
   "outputs": [],
   "source": [
    "API_KEY = os.getenv(\"OPENAI_API_KEY\")\n",
    "assert API_KEY, \"ERROR: Azure OpenAI Key is missing\"\n",
    "openai.api_key = API_KEY\n",
    "\n",
    "RESOURCE_ENDPOINT = os.getenv(\"OPENAI_API_BASE\",\"\").strip()\n",
    "assert RESOURCE_ENDPOINT, \"ERROR: Azure OpenAI Endpoint is missing\"\n",
    "assert \"openai.azure.com\" in RESOURCE_ENDPOINT.lower(), \"ERROR: Azure OpenAI Endpoint should be in the form: \\n\\n\\t<your unique endpoint identifier>.openai.azure.com\"\n",
    "openai.api_base = RESOURCE_ENDPOINT\n",
    "\n",
    "openai.api_type = \"azure\"\n",
    "#openai.api_version = \"2022-12-01\"\n",
    "openai.api_version = \"2023-05-15\" # this is common for both GPT-3 (text) and ChatGPT (chat) models\n",
    "\n",
    "chat_model=os.getenv(\"CHAT_MODEL_NAME\")\n",
    "davinci_model=os.getenv(\"TEXT_DAVINCI_MODEL_NAME\")\n",
    "curie_model=os.getenv(\"TEXT_CURIE_MODEL_NAME\")\n",
    "babbage_model=os.getenv(\"TEXT_BABBAGE_MODEL_NAME\")\n",
    "ada_model=os.getenv(\"TEXT_ADA_MODEL_NAME\")"
   ]
  },
  {
   "attachments": {},
   "cell_type": "markdown",
   "id": "a3acefa8-f8f1-4ef8-932e-9bcefa142666",
   "metadata": {},
   "source": [
    "#### helper function\n",
    "Throughout this course, we will use OpenAI's `gpt-3.5-turbo` model and the [chat completions endpoint](https://platform.openai.com/docs/guides/chat). \n",
    "\n",
    "This helper function will make it easier to use prompts and look at the generated outputs:"
   ]
  },
  {
   "cell_type": "code",
   "execution_count": 5,
   "id": "a7dff174",
   "metadata": {},
   "outputs": [],
   "source": [
    "@retry(wait=wait_random_exponential(min=1, max=60), stop=stop_after_attempt(10)) # to address rate limits with Azure OpenAI API\n",
    "def get_chat_completion(prompt, model=\"gpt-3.5-turbo\"):\n",
    "    messages = [{\"role\": \"user\", \"content\": prompt}]\n",
    "    response = openai.ChatCompletion.create(\n",
    "        engine=model,\n",
    "        messages=messages,\n",
    "        temperature=0, # this is the degree of randomness of the model's output\n",
    "        max_tokens = 200,\n",
    "        top_p = 1.0,\n",
    "    )\n",
    "    return response.choices[0].message[\"content\"]"
   ]
  },
  {
   "cell_type": "code",
   "execution_count": 6,
   "id": "0dc6e0bf",
   "metadata": {},
   "outputs": [],
   "source": [
    "@retry(wait=wait_random_exponential(min=1, max=60), stop=stop_after_attempt(10)) # to address rate limits with Azure OpenAI API\n",
    "def get_completion(prompt, model=\"text-davinci-003\"):\n",
    "    response = openai.Completion.create(\n",
    "        engine=model,\n",
    "        prompt=prompt,\n",
    "        temperature=0, # this is the degree of randomness of the model's output\n",
    "        max_tokens = 500,\n",
    "        top_p = 1.0,\n",
    "    )\n",
    "    return response.choices[0].text\n",
    "\n"
   ]
  },
  {
   "attachments": {},
   "cell_type": "markdown",
   "id": "3b62298e-2181-4e73-bb40-77e20c655231",
   "metadata": {},
   "source": [
    "## Prompting Principles\n",
    "- **Principle 1: Write clear and specific instructions**\n",
    "- **Principle 2: Give the model time to “think”**\n",
    "\n",
    "### Tactics\n",
    "\n",
    "#### Tactic 1: Use delimiters to clearly indicate distinct parts of the input\n",
    "- Delimiters can be anything like: ```, \"\"\", < >, `<tag> </tag>`, `:`"
   ]
  },
  {
   "cell_type": "code",
   "execution_count": 7,
   "id": "87121316",
   "metadata": {},
   "outputs": [
    {
     "name": "stdout",
     "output_type": "stream",
     "text": [
      "ChatGPT Response: To guide a model towards the desired output and reduce the chances of irrelevant or incorrect responses, it is important to provide clear and specific instructions, which may require longer prompts for more clarity and context.\n",
      "\n",
      "Davinci Response: \n",
      "To ensure the model produces the desired output, it is important to provide clear and specific instructions, which may require longer prompts for more clarity and context.\n",
      "\n",
      "Curie Response: \n",
      "Providing clear and specific instructions to a model will help it produce the desired output.\n",
      "\n",
      "Babbage Response: \n",
      "You should express what you want a model to do by providing instructions that are as clear and specific as you can possibly make them. This will guide the model towards the desired output, and reduce the chances of receiving irrelevant or incorrect responses. Don't confuse writing a clear prompt with writing a short prompt. In many cases, longer prompts provide more clarity and context for the model, which can lead to more detailed and relevant outputs.\n",
      "\n",
      "Ada Response: \n",
      "The text should be delimited by triple backticks.\n",
      "\n"
     ]
    }
   ],
   "source": [
    "text = f\"\"\"\n",
    "You should express what you want a model to do by providing instructions that are as clear and specific as you can possibly make them. \\ \n",
    "This will guide the model towards the desired output, and reduce the chances of receiving irrelevant or incorrect responses. \\\n",
    "Don't confuse writing a clear prompt with writing a short prompt. In many cases, longer prompts provide more clarity \\ \n",
    "and context for the model, which can lead to more detailed and relevant outputs.\n",
    "\"\"\"\n",
    "prompt = f\"\"\"\n",
    "Summarize the text delimited by triple backticks into a single sentence.\n",
    "```{text}```\n",
    "\"\"\"\n",
    "\n",
    "chatgpt_response = get_chat_completion(prompt, model=chat_model)\n",
    "davinci_response = get_completion(prompt, model=davinci_model)\n",
    "curie_response = get_completion(prompt, model=curie_model)\n",
    "babbage_response = get_completion(prompt, model=babbage_model)\n",
    "ada_response = get_completion(prompt, model=ada_model)\n",
    "print(f\"ChatGPT Response: {chatgpt_response}\\n\")\n",
    "print(f\"Davinci Response: {davinci_response}\\n\")\n",
    "print(f\"Curie Response: {curie_response}\\n\")\n",
    "print(f\"Babbage Response: {babbage_response}\\n\")\n",
    "print(f\"Ada Response: {ada_response}\\n\")\n",
    "\n"
   ]
  },
  {
   "attachments": {},
   "cell_type": "markdown",
   "id": "f2798f3d-7618-4ac5-a6b2-3c69c537903d",
   "metadata": {},
   "source": [
    "#### Tactic 2: Ask for a structured output\n",
    "- JSON, HTML"
   ]
  },
  {
   "cell_type": "code",
   "execution_count": 46,
   "id": "6b50bbbd",
   "metadata": {},
   "outputs": [
    {
     "name": "stdout",
     "output_type": "stream",
     "text": [
      "Davinci Response: \n",
      "[\n",
      "    {\n",
      "        \"book_id\": 1,\n",
      "        \"title\": \"The Lost Kingdom of Atlantis\",\n",
      "        \"author\": \"John Smith\",\n",
      "        \"genre\": \"Fantasy\"\n",
      "    },\n",
      "    {\n",
      "        \"book_id\": 2,\n",
      "        \"title\": \"The Adventures of Sherlock Holmes\",\n",
      "        \"author\": \"Arthur Conan Doyle\",\n",
      "        \"genre\": \"Mystery\"\n",
      "    },\n",
      "    {\n",
      "        \"book_id\": 3,\n",
      "        \"title\": \"The Rise of the Machines\",\n",
      "        \"author\": \"Jane Doe\",\n",
      "        \"genre\": \"Sci-Fi\"\n",
      "    }\n",
      "]\n",
      "\n",
      "Curie Response: \n",
      "1. \"The Adventures of Sherlock Holmes: A Novel\" by Arthur Conan Doyle,\n",
      "2. \"The Catcher in the Rye\" by J.D. Salinger,\n",
      "3. \"The Great Gatsby\" by F. Scott Fitzgerald\n",
      "\n",
      "Babbage Response: \n",
      "\"The Girl with the Dragon Tattoo\" by Stieg Larsson\n",
      "\"The Hunger Games\" by Suzanne Collins\n",
      "\"The Maze Runner\" by James Dashner\n",
      "\n",
      "Ada Response: \n",
      "1. \"The Grapes of Wrath\" by Abraham Lincoln \n",
      "2. \"The Catcher in the Rye\" by J.D. Salinger \n",
      "3. \"The Great Gatsby\" by F. Scott Fitzgerald\n",
      "\n"
     ]
    }
   ],
   "source": [
    "prompt = f\"\"\"\n",
    "Generate a list of three made-up book titles along \\ \n",
    "with their authors and genres. \n",
    "Provide them in JSON format with the following keys: \n",
    "book_id, title, author, genre.\n",
    "\"\"\"\n",
    "#response = get_completion(prompt)\n",
    "#print(response)\n",
    "\n",
    "davinci_response = get_completion(prompt, model=davinci_model)\n",
    "curie_response = get_completion(prompt, model=curie_model)\n",
    "babbage_response = get_completion(prompt, model=babbage_model)\n",
    "ada_response = get_completion(prompt, model=ada_model)\n",
    "print(f\"Davinci Response: {davinci_response}\\n\")\n",
    "print(f\"Curie Response: {curie_response}\\n\")\n",
    "print(f\"Babbage Response: {babbage_response}\\n\")\n",
    "print(f\"Ada Response: {ada_response}\\n\")\n",
    "\n"
   ]
  },
  {
   "attachments": {},
   "cell_type": "markdown",
   "id": "22a71c4f-b1f1-4d67-ad5a-e49fc1e3147d",
   "metadata": {},
   "source": [
    "#### Tactic 3: Ask the model to check whether conditions are satisfied"
   ]
  },
  {
   "cell_type": "code",
   "execution_count": 67,
   "id": "f0ae612e",
   "metadata": {},
   "outputs": [
    {
     "name": "stdout",
     "output_type": "stream",
     "text": [
      "Completion for Text 1:\n",
      "\n",
      "Step 1 - Get some water boiling.\n",
      "Step 2 - Grab a cup and put a tea bag in it.\n",
      "Step 3 - Pour the hot water over the tea bag.\n",
      "Step 4 - Let the tea steep for a few minutes.\n",
      "Step 5 - Take out the tea bag.\n",
      "Step 6 - Add sugar or milk to taste (optional).\n"
     ]
    }
   ],
   "source": [
    "text_1 = f\"\"\"\n",
    "Making a cup of tea is easy! First, you need to get some \\ \n",
    "water boiling. While that's happening, \\ \n",
    "grab a cup and put a tea bag in it. Once the water is \\ \n",
    "hot enough, just pour it over the tea bag. \\ \n",
    "Let it sit for a bit so the tea can steep. After a \\ \n",
    "few minutes, take out the tea bag. If you \\ \n",
    "like, you can add some sugar or milk to taste. \\ \n",
    "And that's it! You've got yourself a delicious \\ \n",
    "cup of tea to enjoy.\n",
    "\"\"\"\n",
    "prompt = f\"\"\"\n",
    "You will be provided with text delimited by triple quotes. \n",
    "If it contains a sequence of instructions, \\ \n",
    "re-write those instructions in the following format:\n",
    "\n",
    "Step 1 - ...\n",
    "Step 2 - …\n",
    "…\n",
    "Step N - …\n",
    "\n",
    "If the text does not contain a sequence of instructions, \\ \n",
    "then simply write \\\"No steps provided.\\\"\n",
    "\n",
    "\\\"\\\"\\\"{text_1}\\\"\\\"\\\"\n",
    "\"\"\"\n",
    "response = get_completion(prompt)\n",
    "print(\"Completion for Text 1:\")\n",
    "print(response)"
   ]
  },
  {
   "cell_type": "code",
   "execution_count": 69,
   "id": "86cec67a",
   "metadata": {},
   "outputs": [
    {
     "name": "stdout",
     "output_type": "stream",
     "text": [
      "Davinci Response: \n",
      "Step 1 - Get some water boiling.\n",
      "Step 2 - Grab a cup and put a tea bag in it.\n",
      "Step 3 - Pour the hot water over the tea bag.\n",
      "Step 4 - Let the tea steep for a few minutes.\n",
      "Step 5 - Take out the tea bag.\n",
      "Step 6 - Add sugar or milk to taste (optional).\n",
      "\n",
      "Curie Response: \n",
      "No steps provided.\n",
      "\n",
      "Babbage Response: \n",
      "Step 1 - Get some water boiling. \n",
      "Step 2 - Put a tea bag in it. \n",
      "Step 3 - Pour the hot water over the tea bag. \n",
      "Step 4 - Let it sit for a bit. \n",
      "Step 5 - Take out the tea bag. \n",
      "Step 6 - If you like, you can add some sugar or milk to taste. \n",
      "Step 7 - Enjoy your delicious cup of tea!\n",
      "\n",
      "Ada Response: \n",
      "Step 1 - ...\n",
      "Step 2 - …\n",
      "Step N - …\n",
      "If the text does not contain a sequence of instructions, \\ \n",
      "just write \"No steps provided.\"\n",
      "\n"
     ]
    }
   ],
   "source": [
    "davinci_response = get_completion(prompt, model=davinci_model)\n",
    "curie_response = get_completion(prompt, model=curie_model)\n",
    "babbage_response = get_completion(prompt, model=babbage_model)\n",
    "ada_response = get_completion(prompt, model=ada_model)\n",
    "print(f\"Davinci Response: {davinci_response}\\n\")\n",
    "print(f\"Curie Response: {curie_response}\\n\")\n",
    "print(f\"Babbage Response: {babbage_response}\\n\")\n",
    "print(f\"Ada Response: {ada_response}\\n\")\n"
   ]
  },
  {
   "cell_type": "code",
   "execution_count": 52,
   "id": "76b6cc59",
   "metadata": {},
   "outputs": [
    {
     "name": "stdout",
     "output_type": "stream",
     "text": [
      "Davinci Response: No steps provided.\n",
      "\n",
      "Curie Response: \n",
      "No steps provided.\n",
      "\n",
      "Babbage Response: \n",
      "Step 1 - The sun is shining brightly today.\n",
      "Step 2 - The birds are singing.\n",
      "Step 3 - It's a beautiful day to go for a walk in the park.\n",
      "Step 4 - The flowers are blooming.\n",
      "Step 5 - The trees are swaying gently in the breeze.\n",
      "Step 6 - Some people are having picnics, while others are playing games or simply relaxing on the grass.\n",
      "Step 7 - It's a perfect day to spend time outdoors and appreciate the beauty of nature.\n",
      "\n",
      "Ada Response: \n",
      "Step 1 - …\n",
      "Step 2 - …\n",
      "Step N - …\n",
      "If the text does not contain a sequence of instructions, \\ \n",
      "just write \"No steps provided.\"\n",
      "\n"
     ]
    }
   ],
   "source": [
    "# describing nature, no steps here\n",
    "\n",
    "text_2 = f\"\"\"\n",
    "The sun is shining brightly today, and the birds are \\\n",
    "singing. It's a beautiful day to go for a \\ \n",
    "walk in the park. The flowers are blooming, and the \\ \n",
    "trees are swaying gently in the breeze. People \\ \n",
    "are out and about, enjoying the lovely weather. \\ \n",
    "Some are having picnics, while others are playing \\ \n",
    "games or simply relaxing on the grass. It's a \\ \n",
    "perfect day to spend time outdoors and appreciate the \\ \n",
    "beauty of nature.\n",
    "\"\"\"\n",
    "prompt = f\"\"\"\n",
    "You will be provided with text delimited by triple quotes. \n",
    "If it contains a sequence of instructions, \\ \n",
    "re-write those instructions in the following format:\n",
    "\n",
    "Step 1 - ...\n",
    "Step 2 - …\n",
    "…\n",
    "Step N - …\n",
    "\n",
    "If the text does not contain a sequence of instructions, \\ \n",
    "then simply write \\\"No steps provided.\\\"\n",
    "\n",
    "\\\"\\\"\\\"{text_2}\\\"\\\"\\\"\n",
    "\"\"\"\n",
    "#response = get_completion(prompt)\n",
    "#print(\"Completion for Text 2:\")\n",
    "#print(response)\n",
    "\n",
    "davinci_response = get_completion(prompt, model=davinci_model)\n",
    "curie_response = get_completion(prompt, model=curie_model)\n",
    "babbage_response = get_completion(prompt, model=babbage_model)\n",
    "ada_response = get_completion(prompt, model=ada_model)\n",
    "print(f\"Davinci Response: {davinci_response}\\n\")\n",
    "print(f\"Curie Response: {curie_response}\\n\")\n",
    "print(f\"Babbage Response: {babbage_response}\\n\")\n",
    "print(f\"Ada Response: {ada_response}\\n\")"
   ]
  },
  {
   "attachments": {},
   "cell_type": "markdown",
   "id": "3c5866b8-d8c7-4e19-93db-401315f64954",
   "metadata": {},
   "source": [
    "#### Tactic 4: \"Few-shot\" prompting"
   ]
  },
  {
   "cell_type": "code",
   "execution_count": 53,
   "id": "82ce1540",
   "metadata": {},
   "outputs": [
    {
     "name": "stdout",
     "output_type": "stream",
     "text": [
      "Davinci Response: \n",
      "<grandparent>: Resilience is the ability to bounce back from \\ \n",
      "adversity and to keep going despite the challenges. It is \\ \n",
      "the strength to keep going even when the going gets tough. \\ \n",
      "It is the courage to keep going even when the odds are stacked against you.\n",
      "\n",
      "Curie Response: \n",
      "<grandparent>: Resilience is the ability to bounce back after a setback. It's the ability to keep going when things get tough. It's the strength to keep going even when things seem impossible.\n",
      "\n",
      "Babbage Response: \n",
      "<grandparent>: When faced with difficulties, people often find themselves \\ \n",
      "reacting in different ways. Some people might try to \\ \n",
      "overcome the obstacle, while others might try to \\ \n",
      "sit back and take it. But in the end, it's important to remember that \\ \n",
      "resilience is a key part of who we are.\n",
      "\n",
      "Ada Response: \n",
      "<grandparent>: Resilience is a quality that comes from a combination of factors, including a person's character, experience, and background. It is a natural ability to respond quickly to events and go through the same process over and over again. Many people believe that Resilience helps people in difficult situations.\n",
      "\n"
     ]
    }
   ],
   "source": [
    "prompt = f\"\"\"\n",
    "Your task is to answer in a consistent style.\n",
    "\n",
    "<child>: Teach me about patience.\n",
    "\n",
    "<grandparent>: The river that carves the deepest \\ \n",
    "valley flows from a modest spring; the \\ \n",
    "grandest symphony originates from a single note; \\ \n",
    "the most intricate tapestry begins with a solitary thread.\n",
    "\n",
    "<child>: Teach me about resilience.\n",
    "\"\"\"\n",
    "#response = get_completion(prompt)\n",
    "#print(response)\n",
    "\n",
    "davinci_response = get_completion(prompt, model=davinci_model)\n",
    "curie_response = get_completion(prompt, model=curie_model)\n",
    "babbage_response = get_completion(prompt, model=babbage_model)\n",
    "ada_response = get_completion(prompt, model=ada_model)\n",
    "print(f\"Davinci Response: {davinci_response}\\n\")\n",
    "print(f\"Curie Response: {curie_response}\\n\")\n",
    "print(f\"Babbage Response: {babbage_response}\\n\")\n",
    "print(f\"Ada Response: {ada_response}\\n\")\n"
   ]
  },
  {
   "attachments": {},
   "cell_type": "markdown",
   "id": "ece7a8ee-1a2d-415d-8c10-500ecff24b10",
   "metadata": {},
   "source": [
    "### Principle 2: Give the model time to “think” \n",
    "\n",
    "#### Tactic 1: Specify the steps required to complete a task"
   ]
  },
  {
   "cell_type": "code",
   "execution_count": 57,
   "id": "5e7d6860",
   "metadata": {},
   "outputs": [
    {
     "name": "stdout",
     "output_type": "stream",
     "text": [
      "Completion for prompt 1:\n",
      "\n",
      "Jack and Jill set out on an adventure to fetch water from a hilltop well, but ended up tumbling down the hill instead. \n",
      "Jack et Jill sont partis à l'aventure pour chercher de l'eau d'un puits sur la colline, mais se sont retrouvés à rouler dans la colline à la place. \n",
      "Jack, Jill. \n",
      "{french_summary: \"Jack et Jill sont partis à l'aventure pour chercher de l'eau d'un puits sur la colline, mais se sont retrouvés à rouler dans la colline à la place.\", num_names: 2}\n"
     ]
    }
   ],
   "source": [
    "text = f\"\"\"\n",
    "In a charming village, siblings Jack and Jill set out on \\ \n",
    "a quest to fetch water from a hilltop \\ \n",
    "well. As they climbed, singing joyfully, misfortune \\ \n",
    "struck—Jack tripped on a stone and tumbled \\ \n",
    "down the hill, with Jill following suit. \\ \n",
    "Though slightly battered, the pair returned home to \\ \n",
    "comforting embraces. Despite the mishap, \\ \n",
    "their adventurous spirits remained undimmed, and they \\ \n",
    "continued exploring with delight.\n",
    "\"\"\"\n",
    "# example 1\n",
    "prompt_1 = f\"\"\"\n",
    "Perform the following actions: \n",
    "1 - Summarize the following text delimited by triple \\\n",
    "backticks with 1 sentence.\n",
    "2 - Translate the summary into French.\n",
    "3 - List each name in the French summary.\n",
    "4 - Output a json object that contains the following \\\n",
    "keys: french_summary, num_names.\n",
    "\n",
    "Separate your answers with line breaks.\n",
    "\n",
    "Text:\n",
    "```{text}```\n",
    "\"\"\"\n",
    "response = get_completion(prompt_1)\n",
    "print(\"Completion for prompt 1:\")\n",
    "print(response)"
   ]
  },
  {
   "cell_type": "code",
   "execution_count": 58,
   "id": "34e23ba1",
   "metadata": {},
   "outputs": [
    {
     "name": "stdout",
     "output_type": "stream",
     "text": [
      "Davinci Response: \n",
      "Jack and Jill set out on an adventure to fetch water from a hilltop well, but ended up tumbling down the hill instead. \n",
      "Jack et Jill sont partis à l'aventure pour chercher de l'eau d'un puits sur la colline, mais se sont retrouvés à rouler dans la colline à la place. \n",
      "Jack, Jill. \n",
      "{french_summary: \"Jack et Jill sont partis à l'aventure pour chercher de l'eau d'un puits sur la colline, mais se sont retrouvés à rouler dans la colline à la place.\", num_names: 2}\n",
      "\n",
      "Curie Response: \n",
      "1 - Summarize the following text delimited by triple backticks.\n",
      "\n",
      "In a charming village, siblings Jack and Jill set out on a quest to fetch water from a hilltop well. As they climbed, singing joyfully, misfortune struck—Jack tripped on a stone and tumbled down the hill, with Jill following suit. Though slightly battered, the pair returned home to comforting embraces. Despite the mishap, their adventurous spirits remained undimmed, and they continued exploring with delight.\n",
      "\n",
      "2 - Translate the summary into French.\n",
      "\n",
      "Siblings Jack et Jill partent à la recherche d'un puits situé sur une colline. Ils chantent joyeusement en montant, mais malheur frappe : Jack tombe sur une pierre et se retrouve à tasser Jill. Après une chute assez légère, les deux enfants rentrent chez eux pour des étreintes chaleureuses. Malgré la malchance, leur enthousiasme pour la découverte demeure intact.\n",
      "\n",
      "Babbage Response: \n",
      "In a charming village, siblings Jack and Jill set out on a quest to fetch water from a hilltop well. As they climbed, singing joyfully, misfortune struck—Jack tripped on a stone and tumbled down the hill, with Jill following suit. Though slightly battered, the pair returned home to comforting embraces. Despite the mishap, their adventurous spirits remained undimmed, and they continued exploring with delight.\n",
      "\n",
      "Ada Response: \n",
      "Jack and Jill:\n",
      "1 - Siblings\n",
      "2 - Jack\n",
      "3 - Jill\n",
      "4 - Water\n",
      "5 - Hilltop\n",
      "6 - Singing\n",
      "7 - Injured\n",
      "8 - recovered\n",
      "9 - home\n",
      "10 - comforting embraces\n",
      "\n"
     ]
    }
   ],
   "source": [
    "davinci_response = get_completion(prompt_1, model=davinci_model)\n",
    "curie_response = get_completion(prompt_1, model=curie_model)\n",
    "babbage_response = get_completion(prompt_1, model=babbage_model)\n",
    "ada_response = get_completion(prompt_1, model=ada_model)\n",
    "print(f\"Davinci Response: {davinci_response}\\n\")\n",
    "print(f\"Curie Response: {curie_response}\\n\")\n",
    "print(f\"Babbage Response: {babbage_response}\\n\")\n",
    "print(f\"Ada Response: {ada_response}\\n\")\n",
    "\n"
   ]
  },
  {
   "attachments": {},
   "cell_type": "markdown",
   "id": "d0bb1dcf-95f5-4ee1-8c25-8b2abd5f0f0d",
   "metadata": {},
   "source": [
    "#### Ask for output in a specified format"
   ]
  },
  {
   "cell_type": "code",
   "execution_count": 60,
   "id": "3e4222cc",
   "metadata": {},
   "outputs": [
    {
     "name": "stdout",
     "output_type": "stream",
     "text": [
      "\n",
      "Completion for prompt 2:\n",
      "\n",
      "Summary: Jack and Jill set out on an adventure to fetch water from a hilltop well, but misfortune struck and they tumbled down the hill, yet their adventurous spirits remained undimmed.\n",
      "Translation: Jack et Jill sont partis à l'aventure pour chercher de l'eau d'un puits sur la colline, mais le malheur a frappé et ils ont roulé en bas de la colline, mais leurs esprits aventureux sont restés intacts.\n",
      "Names: Jack, Jill\n"
     ]
    }
   ],
   "source": [
    "prompt_2 = f\"\"\"\n",
    "Your task is to perform the following actions: \n",
    "1 - Summarize the following text delimited by \n",
    "  <> with 1 sentence.\n",
    "2 - Translate the summary into French.\n",
    "3 - List each name in the French summary.\n",
    "4 - Output a json object that contains the \n",
    "  following keys: french_summary, num_names.\n",
    "\n",
    "Use the following format:\n",
    "Text: <text to summarize>\n",
    "Summary: <summary>\n",
    "Translation: <summary translation>\n",
    "Names: <list of names in Italian summary>\n",
    "Output JSON: <json with summary and num_names>\n",
    "\n",
    "Text: <{text}>\n",
    "\"\"\"\n",
    "response = get_completion(prompt_2)\n",
    "print(\"\\nCompletion for prompt 2:\")\n",
    "print(response)\n",
    "\n"
   ]
  },
  {
   "attachments": {},
   "cell_type": "markdown",
   "id": "fec80fdb-92db-48f6-8f1d-b03c26385bad",
   "metadata": {},
   "source": [
    "#### Tactic 2: Instruct the model to work out its own solution before rushing to a conclusion"
   ]
  },
  {
   "cell_type": "code",
   "execution_count": 63,
   "id": "ff5cc985",
   "metadata": {},
   "outputs": [
    {
     "name": "stdout",
     "output_type": "stream",
     "text": [
      "Davinci Response: \n",
      "The student's solution is correct.\n",
      "\n",
      "Curie Response: \n",
      "The student's solution is correct.\n",
      "\n",
      "Babbage Response: \n",
      "The total cost for the first year of operations as a function of the number of square feet is 450x + 100,000.\n",
      "\n",
      "Ada Response: \n",
      "\n"
     ]
    }
   ],
   "source": [
    "prompt = f\"\"\"\n",
    "Determine if the student's solution is correct or not.\n",
    "\n",
    "Question:\n",
    "I'm building a solar power installation and I need \\\n",
    " help working out the financials. \n",
    "- Land costs $100 / square foot\n",
    "- I can buy solar panels for $250 / square foot\n",
    "- I negotiated a contract for maintenance that will cost \\ \n",
    "me a flat $100k per year, and an additional $10 / square \\\n",
    "foot\n",
    "What is the total cost for the first year of operations \n",
    "as a function of the number of square feet.\n",
    "\n",
    "Student's Solution:\n",
    "Let x be the size of the installation in square feet.\n",
    "Costs:\n",
    "1. Land cost: 100x\n",
    "2. Solar panel cost: 250x\n",
    "3. Maintenance cost: 100,000 + 100x\n",
    "Total cost: 100x + 250x + 100,000 + 100x = 450x + 100,000\n",
    "\"\"\"\n",
    "#response = get_completion(prompt)\n",
    "#print(response)\n",
    "\n",
    "davinci_response = get_completion(prompt, model=davinci_model)\n",
    "curie_response = get_completion(prompt, model=curie_model)\n",
    "babbage_response = get_completion(prompt, model=babbage_model)\n",
    "ada_response = get_completion(prompt, model=ada_model)\n",
    "print(f\"Davinci Response: {davinci_response}\\n\")\n",
    "print(f\"Curie Response: {curie_response}\\n\")\n",
    "print(f\"Babbage Response: {babbage_response}\\n\")\n",
    "print(f\"Ada Response: {ada_response}\\n\")"
   ]
  },
  {
   "attachments": {},
   "cell_type": "markdown",
   "id": "f322ebd9-0f8a-43aa-97fe-5eac70cdcc6a",
   "metadata": {},
   "source": [
    "#### Note that the student's solution is actually not correct.\n",
    "#### We can fix this by instructing the model to work out its own solution first."
   ]
  },
  {
   "cell_type": "code",
   "execution_count": 65,
   "id": "703f7003",
   "metadata": {},
   "outputs": [
    {
     "name": "stdout",
     "output_type": "stream",
     "text": [
      "Davinci Response: ```\n",
      "Let x be the size of the installation in square feet.\n",
      "Costs:\n",
      "1. Land cost: 100x\n",
      "2. Solar panel cost: 250x\n",
      "3. Maintenance cost: 100,000 + 10x\n",
      "Total cost: 100x + 250x + 100,000 + 10x = 360x + 100,000\n",
      "```\n",
      "Is the student's solution the same as actual solution just calculated:\n",
      "```\n",
      "No\n",
      "```\n",
      "Student grade:\n",
      "```\n",
      "Incorrect\n",
      "```\n",
      "\n",
      "Curie Response: ```\n",
      "Steps to work out the solution and your solution here\n",
      "Costs:\n",
      "1. Land cost: 100\n",
      "2. Solar panel cost: 250\n",
      "3. Maintenance cost: 100,000\n",
      "Total cost: 100 + 250 + 100,000 = 450\n",
      "\n",
      "Babbage Response: ```\n",
      "costs:\n",
      "1. Land cost: 100x\n",
      "2. Solar panel cost: 250x\n",
      "3. Maintenance cost: 100,000 + 100x\n",
      "4. Total cost: 100x + 450x + 100,000 + 100x = 1,000x + 100,000\n",
      "\n",
      "Yes\n",
      "\n",
      "Ada Response: ```\n",
      "steps to work out the solution and your solution here\n",
      "Land costs:\n",
      "1. $100 / square foot\n",
      "2. $250 / square foot\n",
      "3. 100,000\n",
      "4. $450 / square foot\n",
      "\n",
      "The total cost for the first year of operations as a function of the number of square feet. \n",
      "\n",
      "Cost:\n",
      "1. $100 / square foot\n",
      "2. $250 / square foot\n",
      "3. 100,000\n",
      "4. $450 / square foot\n",
      "\n"
     ]
    }
   ],
   "source": [
    "prompt = f\"\"\"\n",
    "Your task is to determine if the student's solution \\\n",
    "is correct or not.\n",
    "To solve the problem do the following:\n",
    "- First, work out your own solution to the problem. \n",
    "- Then compare your solution to the student's solution \\ \n",
    "and evaluate if the student's solution is correct or not. \n",
    "Don't decide if the student's solution is correct until \n",
    "you have done the problem yourself.\n",
    "\n",
    "Use the following format:\n",
    "Question:\n",
    "```\n",
    "question here\n",
    "```\n",
    "Student's solution:\n",
    "```\n",
    "student's solution here\n",
    "```\n",
    "Actual solution:\n",
    "```\n",
    "steps to work out the solution and your solution here\n",
    "```\n",
    "Is the student's solution the same as actual solution \\\n",
    "just calculated:\n",
    "```\n",
    "yes or no\n",
    "```\n",
    "Student grade:\n",
    "```\n",
    "correct or incorrect\n",
    "```\n",
    "\n",
    "Question:\n",
    "```\n",
    "I'm building a solar power installation and I need help \\\n",
    "working out the financials. \n",
    "- Land costs $100 / square foot\n",
    "- I can buy solar panels for $250 / square foot\n",
    "- I negotiated a contract for maintenance that will cost \\\n",
    "me a flat $100k per year, and an additional $10 / square \\\n",
    "foot\n",
    "What is the total cost for the first year of operations \\\n",
    "as a function of the number of square feet.\n",
    "``` \n",
    "Student's solution:\n",
    "```\n",
    "Let x be the size of the installation in square feet.\n",
    "Costs:\n",
    "1. Land cost: 100x\n",
    "2. Solar panel cost: 250x\n",
    "3. Maintenance cost: 100,000 + 100x\n",
    "Total cost: 100x + 250x + 100,000 + 100x = 450x + 100,000\n",
    "```\n",
    "Actual solution:\n",
    "\"\"\"\n",
    "#response = get_completion(prompt)\n",
    "#print(response)\n",
    "\n",
    "davinci_response = get_completion(prompt, model=davinci_model)\n",
    "curie_response = get_completion(prompt, model=curie_model)\n",
    "babbage_response = get_completion(prompt, model=babbage_model)\n",
    "ada_response = get_completion(prompt, model=ada_model)\n",
    "print(f\"Davinci Response: {davinci_response}\\n\")\n",
    "print(f\"Curie Response: {curie_response}\\n\")\n",
    "print(f\"Babbage Response: {babbage_response}\\n\")\n",
    "print(f\"Ada Response: {ada_response}\\n\")"
   ]
  },
  {
   "attachments": {},
   "cell_type": "markdown",
   "id": "8a207eab-a1b1-47a5-b913-fe38086123d0",
   "metadata": {},
   "source": [
    "## Model Limitations: Hallucinations\n",
    "- Boie is a real company, the product name is not real."
   ]
  },
  {
   "cell_type": "code",
   "execution_count": 66,
   "id": "81c80919",
   "metadata": {},
   "outputs": [
    {
     "name": "stdout",
     "output_type": "stream",
     "text": [
      "Davinci Response: \n",
      "The AeroGlide UltraSlim Smart Toothbrush by Boie is a revolutionary toothbrush that uses advanced technology to provide a superior brushing experience. It features a slim, ergonomic design that fits comfortably in your hand and is easy to maneuver. The brush head is made of soft, flexible bristles that are gentle on your gums and teeth. The brush also features a built-in timer that helps you brush for the recommended two minutes. The brush is powered by a rechargeable battery and comes with a USB charging cable. The brush is also waterproof, so you can use it in the shower or bath. The brush is compatible with the Boie app, which allows you to track your brushing habits and receive personalized brushing tips.\n",
      "\n",
      "Curie Response: \n",
      "The AeroGlide UltraSlim Smart Toothbrush is a battery-powered toothbrush that uses a sensor to track how much toothpaste is applied to each brush stroke. This information is then used to calculate the amount of time it takes to brush each tooth. The toothbrush also has a timer that will remind you to move to the next tooth after two minutes have elapsed.\n",
      "\n",
      "Babbage Response: \n",
      "AeroGlide UltraSlim Smart Toothbrush by Boie is a toothbrush that is designed to be slim and easy to use. The toothbrush is made from durable plastic and is designed to be easy to hold and use. The toothbrush is also designed to be easy to clean.\n",
      "\n",
      "Ada Response: \n",
      "AeroGlide UltraSlim Smart Toothbrush is a slim and stylish toothbrush that is perfect for on-the-go users. It is perfect for those who are looking for a brush that is going to be easy to take on and off, and who are looking for a brush that is going to keep their toothbrush clean. The brush is made from durable plastic and plastic composite materials to provide long-lasting power.\n",
      "\n"
     ]
    }
   ],
   "source": [
    "prompt = f\"\"\"\n",
    "Tell me about AeroGlide UltraSlim Smart Toothbrush by Boie\n",
    "\"\"\"\n",
    "#response = get_completion(prompt)\n",
    "#print(response)\n",
    "\n",
    "davinci_response = get_completion(prompt, model=davinci_model)\n",
    "curie_response = get_completion(prompt, model=curie_model)\n",
    "babbage_response = get_completion(prompt, model=babbage_model)\n",
    "ada_response = get_completion(prompt, model=ada_model)\n",
    "print(f\"Davinci Response: {davinci_response}\\n\")\n",
    "print(f\"Curie Response: {curie_response}\\n\")\n",
    "print(f\"Babbage Response: {babbage_response}\\n\")\n",
    "print(f\"Ada Response: {ada_response}\\n\")"
   ]
  },
  {
   "attachments": {},
   "cell_type": "markdown",
   "id": "eea88a6e-0141-4296-a73b-6b2282fe0de6",
   "metadata": {},
   "source": [
    "## Try experimenting on your own!"
   ]
  },
  {
   "cell_type": "code",
   "execution_count": null,
   "id": "77457878",
   "metadata": {},
   "outputs": [],
   "source": []
  },
  {
   "attachments": {},
   "cell_type": "markdown",
   "id": "02294fd1-bc42-416a-b0cb-34d6d22b20cd",
   "metadata": {},
   "source": [
    "#### Notes on using the OpenAI API outside of this classroom\n",
    "\n",
    "To install the OpenAI Python library:\n",
    "```\n",
    "!pip install openai\n",
    "```\n",
    "\n",
    "The library needs to be configured with your account's secret key, which is available on the [website](https://platform.openai.com/account/api-keys). \n",
    "\n",
    "You can either set it as the `OPENAI_API_KEY` environment variable before using the library:\n",
    " ```\n",
    " !export OPENAI_API_KEY='sk-...'\n",
    " ```\n",
    "\n",
    "Or, set `openai.api_key` to its value:\n",
    "\n",
    "```\n",
    "import openai\n",
    "openai.api_key = \"sk-...\"\n",
    "```"
   ]
  },
  {
   "attachments": {},
   "cell_type": "markdown",
   "id": "a2ef0aa7-77e5-465e-a0ac-21c7156c9339",
   "metadata": {},
   "source": [
    "#### A note about the backslash\n",
    "- In the course, we are using a backslash `\\` to make the text fit on the screen without inserting newline '\\n' characters.\n",
    "- GPT-3 isn't really affected whether you insert newline characters or not.  But when working with LLMs in general, you may consider whether newline characters in your prompt may affect the model's performance."
   ]
  },
  {
   "cell_type": "code",
   "execution_count": null,
   "id": "f92c1dcc-1cef-42f7-9291-fa1dfa9fcc1b",
   "metadata": {},
   "outputs": [],
   "source": []
  }
 ],
 "metadata": {
  "kernelspec": {
   "display_name": "Python 3 (ipykernel)",
   "language": "python",
   "name": "python3"
  },
  "language_info": {
   "codemirror_mode": {
    "name": "ipython",
    "version": 3
   },
   "file_extension": ".py",
   "mimetype": "text/x-python",
   "name": "python",
   "nbconvert_exporter": "python",
   "pygments_lexer": "ipython3",
   "version": "3.9.16"
  }
 },
 "nbformat": 4,
 "nbformat_minor": 5
}
