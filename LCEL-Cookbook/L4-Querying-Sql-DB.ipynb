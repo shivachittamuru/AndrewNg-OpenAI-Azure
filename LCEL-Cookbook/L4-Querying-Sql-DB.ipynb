{
 "cells": [
  {
   "cell_type": "code",
   "execution_count": 1,
   "metadata": {},
   "outputs": [],
   "source": [
    "import os\n",
    "import openai\n",
    "\n",
    "from dotenv import load_dotenv, find_dotenv\n",
    "_ = load_dotenv(find_dotenv()) # read local .env file\n",
    "\n",
    "openai.api_key = os.environ['OPENAI_API_KEY']\n",
    "openai.api_base = os.environ['OPENAI_API_BASE']\n",
    "openai.api_type = os.environ['OPENAI_API_TYPE']\n",
    "openai.api_version = os.environ['OPENAI_API_VERSION']"
   ]
  },
  {
   "cell_type": "code",
   "execution_count": 2,
   "metadata": {},
   "outputs": [],
   "source": [
    "from langchain.prompts import ChatPromptTemplate\n",
    "\n",
    "template = \"\"\"Based on the table schema below, write a SQL query that would answer the user's question:\n",
    "{schema}\n",
    "\n",
    "Question: {question}\n",
    "SQL Query:\"\"\"\n",
    "prompt = ChatPromptTemplate.from_template(template)"
   ]
  },
  {
   "cell_type": "code",
   "execution_count": 14,
   "metadata": {},
   "outputs": [
    {
     "data": {
      "text/plain": [
       "<langchain.utilities.sql_database.SQLDatabase at 0x287f0e2afe0>"
      ]
     },
     "execution_count": 14,
     "metadata": {},
     "output_type": "execute_result"
    }
   ],
   "source": [
    "from langchain.utilities import SQLDatabase\n",
    "db = SQLDatabase.from_uri(\"sqlite:///./Chinook.db\")\n",
    "db"
   ]
  },
  {
   "cell_type": "code",
   "execution_count": 15,
   "metadata": {},
   "outputs": [
    {
     "data": {
      "text/plain": [
       "''"
      ]
     },
     "execution_count": 15,
     "metadata": {},
     "output_type": "execute_result"
    }
   ],
   "source": [
    "db.get_table_info()"
   ]
  },
  {
   "cell_type": "code",
   "execution_count": 4,
   "metadata": {},
   "outputs": [],
   "source": [
    "def get_schema(_):\n",
    "    return db.get_table_info()\n",
    "\n",
    "def run_query(query):\n",
    "    return db.run(query)"
   ]
  },
  {
   "cell_type": "code",
   "execution_count": 5,
   "metadata": {},
   "outputs": [],
   "source": [
    "from langchain.chat_models import AzureChatOpenAI\n",
    "from langchain.schema.output_parser import StrOutputParser\n",
    "from langchain.schema.runnable import RunnablePassthrough\n",
    "\n",
    "model = AzureChatOpenAI(temperature=0.3,\n",
    "    openai_api_base=openai.api_base,\n",
    "    openai_api_version=openai.api_version,\n",
    "    deployment_name=\"gpt-35-turbo\",\n",
    "    openai_api_key=openai.api_key,\n",
    "    openai_api_type = openai.api_type,\n",
    ")\n",
    "\n",
    "sql_response = (\n",
    "    RunnablePassthrough.assign(schema=get_schema)\n",
    "    | prompt\n",
    "    | model.bind(stop=[\"\\nSQLResult:\"])\n",
    "    | StrOutputParser()\n",
    ")"
   ]
  },
  {
   "cell_type": "code",
   "execution_count": 11,
   "metadata": {},
   "outputs": [
    {
     "data": {
      "text/plain": [
       "'SELECT COUNT(*) FROM employees;'"
      ]
     },
     "execution_count": 11,
     "metadata": {},
     "output_type": "execute_result"
    }
   ],
   "source": [
    "query_response = sql_response.invoke({\"question\": \"How many employees are there?\"})\n",
    "query_response"
   ]
  },
  {
   "cell_type": "code",
   "execution_count": 7,
   "metadata": {},
   "outputs": [],
   "source": [
    "template = \"\"\"Based on the table schema below, question, sql query, and sql response, write a natural language response:\n",
    "{schema}\n",
    "\n",
    "Question: {question}\n",
    "SQL Query: {query}\n",
    "SQL Response: {response}\"\"\"\n",
    "prompt_response = ChatPromptTemplate.from_template(template)"
   ]
  },
  {
   "cell_type": "code",
   "execution_count": 16,
   "metadata": {},
   "outputs": [
    {
     "ename": "NameError",
     "evalue": "name 'response' is not defined",
     "output_type": "error",
     "traceback": [
      "\u001b[1;31m---------------------------------------------------------------------------\u001b[0m",
      "\u001b[1;31mNameError\u001b[0m                                 Traceback (most recent call last)",
      "\u001b[1;32mc:\\Users\\shchitt\\OneDrive - Microsoft\\Desktop\\OpenAI\\AndrewNg-OpenAI-Azure\\LCEL-Cookbook\\L4-Querying-Sql-DB.ipynb Cell 9\u001b[0m line \u001b[0;36m2\n\u001b[0;32m      <a href='vscode-notebook-cell:/c%3A/Users/shchitt/OneDrive%20-%20Microsoft/Desktop/OpenAI/AndrewNg-OpenAI-Azure/LCEL-Cookbook/L4-Querying-Sql-DB.ipynb#X12sZmlsZQ%3D%3D?line=0'>1</a>\u001b[0m full_chain \u001b[39m=\u001b[39m (\n\u001b[1;32m----> <a href='vscode-notebook-cell:/c%3A/Users/shchitt/OneDrive%20-%20Microsoft/Desktop/OpenAI/AndrewNg-OpenAI-Azure/LCEL-Cookbook/L4-Querying-Sql-DB.ipynb#X12sZmlsZQ%3D%3D?line=1'>2</a>\u001b[0m     RunnablePassthrough\u001b[39m.\u001b[39massign(query\u001b[39m=\u001b[39mresponse)\n\u001b[0;32m      <a href='vscode-notebook-cell:/c%3A/Users/shchitt/OneDrive%20-%20Microsoft/Desktop/OpenAI/AndrewNg-OpenAI-Azure/LCEL-Cookbook/L4-Querying-Sql-DB.ipynb#X12sZmlsZQ%3D%3D?line=2'>3</a>\u001b[0m     \u001b[39m|\u001b[39m RunnablePassthrough\u001b[39m.\u001b[39massign(\n\u001b[0;32m      <a href='vscode-notebook-cell:/c%3A/Users/shchitt/OneDrive%20-%20Microsoft/Desktop/OpenAI/AndrewNg-OpenAI-Azure/LCEL-Cookbook/L4-Querying-Sql-DB.ipynb#X12sZmlsZQ%3D%3D?line=3'>4</a>\u001b[0m         schema\u001b[39m=\u001b[39mget_schema,\n\u001b[0;32m      <a href='vscode-notebook-cell:/c%3A/Users/shchitt/OneDrive%20-%20Microsoft/Desktop/OpenAI/AndrewNg-OpenAI-Azure/LCEL-Cookbook/L4-Querying-Sql-DB.ipynb#X12sZmlsZQ%3D%3D?line=4'>5</a>\u001b[0m         response\u001b[39m=\u001b[39m\u001b[39mlambda\u001b[39;00m x: db\u001b[39m.\u001b[39mrun(x[\u001b[39m\"\u001b[39m\u001b[39mquery\u001b[39m\u001b[39m\"\u001b[39m]),\n\u001b[0;32m      <a href='vscode-notebook-cell:/c%3A/Users/shchitt/OneDrive%20-%20Microsoft/Desktop/OpenAI/AndrewNg-OpenAI-Azure/LCEL-Cookbook/L4-Querying-Sql-DB.ipynb#X12sZmlsZQ%3D%3D?line=5'>6</a>\u001b[0m     )\n\u001b[0;32m      <a href='vscode-notebook-cell:/c%3A/Users/shchitt/OneDrive%20-%20Microsoft/Desktop/OpenAI/AndrewNg-OpenAI-Azure/LCEL-Cookbook/L4-Querying-Sql-DB.ipynb#X12sZmlsZQ%3D%3D?line=6'>7</a>\u001b[0m     \u001b[39m|\u001b[39m prompt_response\n\u001b[0;32m      <a href='vscode-notebook-cell:/c%3A/Users/shchitt/OneDrive%20-%20Microsoft/Desktop/OpenAI/AndrewNg-OpenAI-Azure/LCEL-Cookbook/L4-Querying-Sql-DB.ipynb#X12sZmlsZQ%3D%3D?line=7'>8</a>\u001b[0m     \u001b[39m|\u001b[39m model\n\u001b[0;32m      <a href='vscode-notebook-cell:/c%3A/Users/shchitt/OneDrive%20-%20Microsoft/Desktop/OpenAI/AndrewNg-OpenAI-Azure/LCEL-Cookbook/L4-Querying-Sql-DB.ipynb#X12sZmlsZQ%3D%3D?line=8'>9</a>\u001b[0m )\n",
      "\u001b[1;31mNameError\u001b[0m: name 'response' is not defined"
     ]
    }
   ],
   "source": [
    "full_chain = (\n",
    "    RunnablePassthrough.assign(query=sql_response)\n",
    "    | RunnablePassthrough.assign(\n",
    "        schema=get_schema,\n",
    "        response=lambda x: db.run(x[\"query\"]),\n",
    "    )\n",
    "    | prompt_response\n",
    "    | model\n",
    "    | StrOutputParser()\n",
    ")"
   ]
  },
  {
   "cell_type": "code",
   "execution_count": 10,
   "metadata": {},
   "outputs": [
    {
     "ename": "OperationalError",
     "evalue": "(sqlite3.OperationalError) no such table: employees\n[SQL: SELECT COUNT(*) FROM employees;]\n(Background on this error at: https://sqlalche.me/e/20/e3q8)",
     "output_type": "error",
     "traceback": [
      "\u001b[1;31m---------------------------------------------------------------------------\u001b[0m",
      "\u001b[1;31mOperationalError\u001b[0m                          Traceback (most recent call last)",
      "File \u001b[1;32mc:\\Users\\shchitt\\AppData\\Local\\anaconda3\\envs\\llms\\lib\\site-packages\\sqlalchemy\\engine\\base.py:1969\u001b[0m, in \u001b[0;36mConnection._exec_single_context\u001b[1;34m(self, dialect, context, statement, parameters)\u001b[0m\n\u001b[0;32m   1968\u001b[0m     \u001b[39mif\u001b[39;00m \u001b[39mnot\u001b[39;00m evt_handled:\n\u001b[1;32m-> 1969\u001b[0m         \u001b[39mself\u001b[39;49m\u001b[39m.\u001b[39;49mdialect\u001b[39m.\u001b[39;49mdo_execute(\n\u001b[0;32m   1970\u001b[0m             cursor, str_statement, effective_parameters, context\n\u001b[0;32m   1971\u001b[0m         )\n\u001b[0;32m   1973\u001b[0m \u001b[39mif\u001b[39;00m \u001b[39mself\u001b[39m\u001b[39m.\u001b[39m_has_events \u001b[39mor\u001b[39;00m \u001b[39mself\u001b[39m\u001b[39m.\u001b[39mengine\u001b[39m.\u001b[39m_has_events:\n",
      "File \u001b[1;32mc:\\Users\\shchitt\\AppData\\Local\\anaconda3\\envs\\llms\\lib\\site-packages\\sqlalchemy\\engine\\default.py:922\u001b[0m, in \u001b[0;36mDefaultDialect.do_execute\u001b[1;34m(self, cursor, statement, parameters, context)\u001b[0m\n\u001b[0;32m    921\u001b[0m \u001b[39mdef\u001b[39;00m \u001b[39mdo_execute\u001b[39m(\u001b[39mself\u001b[39m, cursor, statement, parameters, context\u001b[39m=\u001b[39m\u001b[39mNone\u001b[39;00m):\n\u001b[1;32m--> 922\u001b[0m     cursor\u001b[39m.\u001b[39;49mexecute(statement, parameters)\n",
      "\u001b[1;31mOperationalError\u001b[0m: no such table: employees",
      "\nThe above exception was the direct cause of the following exception:\n",
      "\u001b[1;31mOperationalError\u001b[0m                          Traceback (most recent call last)",
      "\u001b[1;32mc:\\Users\\shchitt\\OneDrive - Microsoft\\Desktop\\OpenAI\\AndrewNg-OpenAI-Azure\\LCEL-Cookbook\\L4-Querying-Sql-DB.ipynb Cell 9\u001b[0m line \u001b[0;36m1\n\u001b[1;32m----> <a href='vscode-notebook-cell:/c%3A/Users/shchitt/OneDrive%20-%20Microsoft/Desktop/OpenAI/AndrewNg-OpenAI-Azure/LCEL-Cookbook/L4-Querying-Sql-DB.ipynb#X10sZmlsZQ%3D%3D?line=0'>1</a>\u001b[0m full_chain\u001b[39m.\u001b[39;49minvoke({\u001b[39m\"\u001b[39;49m\u001b[39mquestion\u001b[39;49m\u001b[39m\"\u001b[39;49m: \u001b[39m\"\u001b[39;49m\u001b[39mHow many employees are there?\u001b[39;49m\u001b[39m\"\u001b[39;49m})\n",
      "File \u001b[1;32mc:\\Users\\shchitt\\AppData\\Local\\anaconda3\\envs\\llms\\lib\\site-packages\\langchain\\schema\\runnable\\base.py:1153\u001b[0m, in \u001b[0;36mRunnableSequence.invoke\u001b[1;34m(self, input, config)\u001b[0m\n\u001b[0;32m   1151\u001b[0m \u001b[39mtry\u001b[39;00m:\n\u001b[0;32m   1152\u001b[0m     \u001b[39mfor\u001b[39;00m i, step \u001b[39min\u001b[39;00m \u001b[39menumerate\u001b[39m(\u001b[39mself\u001b[39m\u001b[39m.\u001b[39msteps):\n\u001b[1;32m-> 1153\u001b[0m         \u001b[39minput\u001b[39m \u001b[39m=\u001b[39m step\u001b[39m.\u001b[39;49minvoke(\n\u001b[0;32m   1154\u001b[0m             \u001b[39minput\u001b[39;49m,\n\u001b[0;32m   1155\u001b[0m             \u001b[39m# mark each step as a child run\u001b[39;49;00m\n\u001b[0;32m   1156\u001b[0m             patch_config(\n\u001b[0;32m   1157\u001b[0m                 config, callbacks\u001b[39m=\u001b[39;49mrun_manager\u001b[39m.\u001b[39;49mget_child(\u001b[39mf\u001b[39;49m\u001b[39m\"\u001b[39;49m\u001b[39mseq:step:\u001b[39;49m\u001b[39m{\u001b[39;49;00mi\u001b[39m+\u001b[39;49m\u001b[39m1\u001b[39;49m\u001b[39m}\u001b[39;49;00m\u001b[39m\"\u001b[39;49m)\n\u001b[0;32m   1158\u001b[0m             ),\n\u001b[0;32m   1159\u001b[0m         )\n\u001b[0;32m   1160\u001b[0m \u001b[39m# finish the root run\u001b[39;00m\n\u001b[0;32m   1161\u001b[0m \u001b[39mexcept\u001b[39;00m \u001b[39mBaseException\u001b[39;00m \u001b[39mas\u001b[39;00m e:\n",
      "File \u001b[1;32mc:\\Users\\shchitt\\AppData\\Local\\anaconda3\\envs\\llms\\lib\\site-packages\\langchain\\schema\\runnable\\passthrough.py:347\u001b[0m, in \u001b[0;36mRunnableAssign.invoke\u001b[1;34m(self, input, config, **kwargs)\u001b[0m\n\u001b[0;32m    336\u001b[0m \u001b[39mdef\u001b[39;00m \u001b[39minvoke\u001b[39m(\n\u001b[0;32m    337\u001b[0m     \u001b[39mself\u001b[39m,\n\u001b[0;32m    338\u001b[0m     \u001b[39minput\u001b[39m: Dict[\u001b[39mstr\u001b[39m, Any],\n\u001b[0;32m    339\u001b[0m     config: Optional[RunnableConfig] \u001b[39m=\u001b[39m \u001b[39mNone\u001b[39;00m,\n\u001b[0;32m    340\u001b[0m     \u001b[39m*\u001b[39m\u001b[39m*\u001b[39mkwargs: Any,\n\u001b[0;32m    341\u001b[0m ) \u001b[39m-\u001b[39m\u001b[39m>\u001b[39m Dict[\u001b[39mstr\u001b[39m, Any]:\n\u001b[0;32m    342\u001b[0m     \u001b[39massert\u001b[39;00m \u001b[39misinstance\u001b[39m(\n\u001b[0;32m    343\u001b[0m         \u001b[39minput\u001b[39m, \u001b[39mdict\u001b[39m\n\u001b[0;32m    344\u001b[0m     ), \u001b[39m\"\u001b[39m\u001b[39mThe input to RunnablePassthrough.assign() must be a dict.\u001b[39m\u001b[39m\"\u001b[39m\n\u001b[0;32m    345\u001b[0m     \u001b[39mreturn\u001b[39;00m {\n\u001b[0;32m    346\u001b[0m         \u001b[39m*\u001b[39m\u001b[39m*\u001b[39m\u001b[39minput\u001b[39m,\n\u001b[1;32m--> 347\u001b[0m         \u001b[39m*\u001b[39m\u001b[39m*\u001b[39m\u001b[39mself\u001b[39m\u001b[39m.\u001b[39mmapper\u001b[39m.\u001b[39minvoke(\u001b[39minput\u001b[39m, config, \u001b[39m*\u001b[39m\u001b[39m*\u001b[39mkwargs),\n\u001b[0;32m    348\u001b[0m     }\n",
      "File \u001b[1;32mc:\\Users\\shchitt\\AppData\\Local\\anaconda3\\envs\\llms\\lib\\site-packages\\langchain\\schema\\runnable\\base.py:1664\u001b[0m, in \u001b[0;36mRunnableParallel.invoke\u001b[1;34m(self, input, config)\u001b[0m\n\u001b[0;32m   1651\u001b[0m     \u001b[39mwith\u001b[39;00m get_executor_for_config(config) \u001b[39mas\u001b[39;00m executor:\n\u001b[0;32m   1652\u001b[0m         futures \u001b[39m=\u001b[39m [\n\u001b[0;32m   1653\u001b[0m             executor\u001b[39m.\u001b[39msubmit(\n\u001b[0;32m   1654\u001b[0m                 step\u001b[39m.\u001b[39minvoke,\n\u001b[1;32m   (...)\u001b[0m\n\u001b[0;32m   1662\u001b[0m             \u001b[39mfor\u001b[39;00m key, step \u001b[39min\u001b[39;00m steps\u001b[39m.\u001b[39mitems()\n\u001b[0;32m   1663\u001b[0m         ]\n\u001b[1;32m-> 1664\u001b[0m         output \u001b[39m=\u001b[39m {key: future\u001b[39m.\u001b[39mresult() \u001b[39mfor\u001b[39;00m key, future \u001b[39min\u001b[39;00m \u001b[39mzip\u001b[39m(steps, futures)}\n\u001b[0;32m   1665\u001b[0m \u001b[39m# finish the root run\u001b[39;00m\n\u001b[0;32m   1666\u001b[0m \u001b[39mexcept\u001b[39;00m \u001b[39mBaseException\u001b[39;00m \u001b[39mas\u001b[39;00m e:\n",
      "File \u001b[1;32mc:\\Users\\shchitt\\AppData\\Local\\anaconda3\\envs\\llms\\lib\\site-packages\\langchain\\schema\\runnable\\base.py:1664\u001b[0m, in \u001b[0;36m<dictcomp>\u001b[1;34m(.0)\u001b[0m\n\u001b[0;32m   1651\u001b[0m     \u001b[39mwith\u001b[39;00m get_executor_for_config(config) \u001b[39mas\u001b[39;00m executor:\n\u001b[0;32m   1652\u001b[0m         futures \u001b[39m=\u001b[39m [\n\u001b[0;32m   1653\u001b[0m             executor\u001b[39m.\u001b[39msubmit(\n\u001b[0;32m   1654\u001b[0m                 step\u001b[39m.\u001b[39minvoke,\n\u001b[1;32m   (...)\u001b[0m\n\u001b[0;32m   1662\u001b[0m             \u001b[39mfor\u001b[39;00m key, step \u001b[39min\u001b[39;00m steps\u001b[39m.\u001b[39mitems()\n\u001b[0;32m   1663\u001b[0m         ]\n\u001b[1;32m-> 1664\u001b[0m         output \u001b[39m=\u001b[39m {key: future\u001b[39m.\u001b[39;49mresult() \u001b[39mfor\u001b[39;00m key, future \u001b[39min\u001b[39;00m \u001b[39mzip\u001b[39m(steps, futures)}\n\u001b[0;32m   1665\u001b[0m \u001b[39m# finish the root run\u001b[39;00m\n\u001b[0;32m   1666\u001b[0m \u001b[39mexcept\u001b[39;00m \u001b[39mBaseException\u001b[39;00m \u001b[39mas\u001b[39;00m e:\n",
      "File \u001b[1;32mc:\\Users\\shchitt\\AppData\\Local\\anaconda3\\envs\\llms\\lib\\concurrent\\futures\\_base.py:458\u001b[0m, in \u001b[0;36mFuture.result\u001b[1;34m(self, timeout)\u001b[0m\n\u001b[0;32m    456\u001b[0m     \u001b[39mraise\u001b[39;00m CancelledError()\n\u001b[0;32m    457\u001b[0m \u001b[39melif\u001b[39;00m \u001b[39mself\u001b[39m\u001b[39m.\u001b[39m_state \u001b[39m==\u001b[39m FINISHED:\n\u001b[1;32m--> 458\u001b[0m     \u001b[39mreturn\u001b[39;00m \u001b[39mself\u001b[39;49m\u001b[39m.\u001b[39;49m__get_result()\n\u001b[0;32m    459\u001b[0m \u001b[39melse\u001b[39;00m:\n\u001b[0;32m    460\u001b[0m     \u001b[39mraise\u001b[39;00m \u001b[39mTimeoutError\u001b[39;00m()\n",
      "File \u001b[1;32mc:\\Users\\shchitt\\AppData\\Local\\anaconda3\\envs\\llms\\lib\\concurrent\\futures\\_base.py:403\u001b[0m, in \u001b[0;36mFuture.__get_result\u001b[1;34m(self)\u001b[0m\n\u001b[0;32m    401\u001b[0m \u001b[39mif\u001b[39;00m \u001b[39mself\u001b[39m\u001b[39m.\u001b[39m_exception:\n\u001b[0;32m    402\u001b[0m     \u001b[39mtry\u001b[39;00m:\n\u001b[1;32m--> 403\u001b[0m         \u001b[39mraise\u001b[39;00m \u001b[39mself\u001b[39m\u001b[39m.\u001b[39m_exception\n\u001b[0;32m    404\u001b[0m     \u001b[39mfinally\u001b[39;00m:\n\u001b[0;32m    405\u001b[0m         \u001b[39m# Break a reference cycle with the exception in self._exception\u001b[39;00m\n\u001b[0;32m    406\u001b[0m         \u001b[39mself\u001b[39m \u001b[39m=\u001b[39m \u001b[39mNone\u001b[39;00m\n",
      "File \u001b[1;32mc:\\Users\\shchitt\\AppData\\Local\\anaconda3\\envs\\llms\\lib\\concurrent\\futures\\thread.py:58\u001b[0m, in \u001b[0;36m_WorkItem.run\u001b[1;34m(self)\u001b[0m\n\u001b[0;32m     55\u001b[0m     \u001b[39mreturn\u001b[39;00m\n\u001b[0;32m     57\u001b[0m \u001b[39mtry\u001b[39;00m:\n\u001b[1;32m---> 58\u001b[0m     result \u001b[39m=\u001b[39m \u001b[39mself\u001b[39m\u001b[39m.\u001b[39mfn(\u001b[39m*\u001b[39m\u001b[39mself\u001b[39m\u001b[39m.\u001b[39margs, \u001b[39m*\u001b[39m\u001b[39m*\u001b[39m\u001b[39mself\u001b[39m\u001b[39m.\u001b[39mkwargs)\n\u001b[0;32m     59\u001b[0m \u001b[39mexcept\u001b[39;00m \u001b[39mBaseException\u001b[39;00m \u001b[39mas\u001b[39;00m exc:\n\u001b[0;32m     60\u001b[0m     \u001b[39mself\u001b[39m\u001b[39m.\u001b[39mfuture\u001b[39m.\u001b[39mset_exception(exc)\n",
      "File \u001b[1;32mc:\\Users\\shchitt\\AppData\\Local\\anaconda3\\envs\\llms\\lib\\site-packages\\langchain\\schema\\runnable\\base.py:2231\u001b[0m, in \u001b[0;36mRunnableLambda.invoke\u001b[1;34m(self, input, config, **kwargs)\u001b[0m\n\u001b[0;32m   2229\u001b[0m \u001b[39m\u001b[39m\u001b[39m\"\"\"Invoke this runnable synchronously.\"\"\"\u001b[39;00m\n\u001b[0;32m   2230\u001b[0m \u001b[39mif\u001b[39;00m \u001b[39mhasattr\u001b[39m(\u001b[39mself\u001b[39m, \u001b[39m\"\u001b[39m\u001b[39mfunc\u001b[39m\u001b[39m\"\u001b[39m):\n\u001b[1;32m-> 2231\u001b[0m     \u001b[39mreturn\u001b[39;00m \u001b[39mself\u001b[39;49m\u001b[39m.\u001b[39;49m_call_with_config(\n\u001b[0;32m   2232\u001b[0m         \u001b[39mself\u001b[39;49m\u001b[39m.\u001b[39;49m_invoke,\n\u001b[0;32m   2233\u001b[0m         \u001b[39minput\u001b[39;49m,\n\u001b[0;32m   2234\u001b[0m         \u001b[39mself\u001b[39;49m\u001b[39m.\u001b[39;49m_config(config, \u001b[39mself\u001b[39;49m\u001b[39m.\u001b[39;49mfunc),\n\u001b[0;32m   2235\u001b[0m     )\n\u001b[0;32m   2236\u001b[0m \u001b[39melse\u001b[39;00m:\n\u001b[0;32m   2237\u001b[0m     \u001b[39mraise\u001b[39;00m \u001b[39mTypeError\u001b[39;00m(\n\u001b[0;32m   2238\u001b[0m         \u001b[39m\"\u001b[39m\u001b[39mCannot invoke a coroutine function synchronously.\u001b[39m\u001b[39m\"\u001b[39m\n\u001b[0;32m   2239\u001b[0m         \u001b[39m\"\u001b[39m\u001b[39mUse `ainvoke` instead.\u001b[39m\u001b[39m\"\u001b[39m\n\u001b[0;32m   2240\u001b[0m     )\n",
      "File \u001b[1;32mc:\\Users\\shchitt\\AppData\\Local\\anaconda3\\envs\\llms\\lib\\site-packages\\langchain\\schema\\runnable\\base.py:668\u001b[0m, in \u001b[0;36mRunnable._call_with_config\u001b[1;34m(self, func, input, config, run_type, **kwargs)\u001b[0m\n\u001b[0;32m    661\u001b[0m run_manager \u001b[39m=\u001b[39m callback_manager\u001b[39m.\u001b[39mon_chain_start(\n\u001b[0;32m    662\u001b[0m     dumpd(\u001b[39mself\u001b[39m),\n\u001b[0;32m    663\u001b[0m     \u001b[39minput\u001b[39m,\n\u001b[0;32m    664\u001b[0m     run_type\u001b[39m=\u001b[39mrun_type,\n\u001b[0;32m    665\u001b[0m     name\u001b[39m=\u001b[39mconfig\u001b[39m.\u001b[39mget(\u001b[39m\"\u001b[39m\u001b[39mrun_name\u001b[39m\u001b[39m\"\u001b[39m),\n\u001b[0;32m    666\u001b[0m )\n\u001b[0;32m    667\u001b[0m \u001b[39mtry\u001b[39;00m:\n\u001b[1;32m--> 668\u001b[0m     output \u001b[39m=\u001b[39m call_func_with_variable_args(\n\u001b[0;32m    669\u001b[0m         func, \u001b[39minput\u001b[39m, config, run_manager, \u001b[39m*\u001b[39m\u001b[39m*\u001b[39mkwargs\n\u001b[0;32m    670\u001b[0m     )\n\u001b[0;32m    671\u001b[0m \u001b[39mexcept\u001b[39;00m \u001b[39mBaseException\u001b[39;00m \u001b[39mas\u001b[39;00m e:\n\u001b[0;32m    672\u001b[0m     run_manager\u001b[39m.\u001b[39mon_chain_error(e)\n",
      "File \u001b[1;32mc:\\Users\\shchitt\\AppData\\Local\\anaconda3\\envs\\llms\\lib\\site-packages\\langchain\\schema\\runnable\\config.py:263\u001b[0m, in \u001b[0;36mcall_func_with_variable_args\u001b[1;34m(func, input, config, run_manager, **kwargs)\u001b[0m\n\u001b[0;32m    261\u001b[0m \u001b[39mif\u001b[39;00m run_manager \u001b[39mis\u001b[39;00m \u001b[39mnot\u001b[39;00m \u001b[39mNone\u001b[39;00m \u001b[39mand\u001b[39;00m accepts_run_manager(func):\n\u001b[0;32m    262\u001b[0m     kwargs[\u001b[39m\"\u001b[39m\u001b[39mrun_manager\u001b[39m\u001b[39m\"\u001b[39m] \u001b[39m=\u001b[39m run_manager\n\u001b[1;32m--> 263\u001b[0m \u001b[39mreturn\u001b[39;00m func(\u001b[39minput\u001b[39m, \u001b[39m*\u001b[39m\u001b[39m*\u001b[39mkwargs)\n",
      "File \u001b[1;32mc:\\Users\\shchitt\\AppData\\Local\\anaconda3\\envs\\llms\\lib\\site-packages\\langchain\\schema\\runnable\\base.py:2164\u001b[0m, in \u001b[0;36mRunnableLambda._invoke\u001b[1;34m(self, input, run_manager, config)\u001b[0m\n\u001b[0;32m   2158\u001b[0m \u001b[39mdef\u001b[39;00m \u001b[39m_invoke\u001b[39m(\n\u001b[0;32m   2159\u001b[0m     \u001b[39mself\u001b[39m,\n\u001b[0;32m   2160\u001b[0m     \u001b[39minput\u001b[39m: Input,\n\u001b[0;32m   2161\u001b[0m     run_manager: CallbackManagerForChainRun,\n\u001b[0;32m   2162\u001b[0m     config: RunnableConfig,\n\u001b[0;32m   2163\u001b[0m ) \u001b[39m-\u001b[39m\u001b[39m>\u001b[39m Output:\n\u001b[1;32m-> 2164\u001b[0m     output \u001b[39m=\u001b[39m call_func_with_variable_args(\u001b[39mself\u001b[39;49m\u001b[39m.\u001b[39;49mfunc, \u001b[39minput\u001b[39;49m, config, run_manager)\n\u001b[0;32m   2165\u001b[0m     \u001b[39m# If the output is a runnable, invoke it\u001b[39;00m\n\u001b[0;32m   2166\u001b[0m     \u001b[39mif\u001b[39;00m \u001b[39misinstance\u001b[39m(output, Runnable):\n",
      "File \u001b[1;32mc:\\Users\\shchitt\\AppData\\Local\\anaconda3\\envs\\llms\\lib\\site-packages\\langchain\\schema\\runnable\\config.py:263\u001b[0m, in \u001b[0;36mcall_func_with_variable_args\u001b[1;34m(func, input, config, run_manager, **kwargs)\u001b[0m\n\u001b[0;32m    261\u001b[0m \u001b[39mif\u001b[39;00m run_manager \u001b[39mis\u001b[39;00m \u001b[39mnot\u001b[39;00m \u001b[39mNone\u001b[39;00m \u001b[39mand\u001b[39;00m accepts_run_manager(func):\n\u001b[0;32m    262\u001b[0m     kwargs[\u001b[39m\"\u001b[39m\u001b[39mrun_manager\u001b[39m\u001b[39m\"\u001b[39m] \u001b[39m=\u001b[39m run_manager\n\u001b[1;32m--> 263\u001b[0m \u001b[39mreturn\u001b[39;00m func(\u001b[39minput\u001b[39m, \u001b[39m*\u001b[39m\u001b[39m*\u001b[39mkwargs)\n",
      "\u001b[1;32mc:\\Users\\shchitt\\OneDrive - Microsoft\\Desktop\\OpenAI\\AndrewNg-OpenAI-Azure\\LCEL-Cookbook\\L4-Querying-Sql-DB.ipynb Cell 9\u001b[0m line \u001b[0;36m5\n\u001b[0;32m      <a href='vscode-notebook-cell:/c%3A/Users/shchitt/OneDrive%20-%20Microsoft/Desktop/OpenAI/AndrewNg-OpenAI-Azure/LCEL-Cookbook/L4-Querying-Sql-DB.ipynb#X10sZmlsZQ%3D%3D?line=0'>1</a>\u001b[0m full_chain \u001b[39m=\u001b[39m (\n\u001b[0;32m      <a href='vscode-notebook-cell:/c%3A/Users/shchitt/OneDrive%20-%20Microsoft/Desktop/OpenAI/AndrewNg-OpenAI-Azure/LCEL-Cookbook/L4-Querying-Sql-DB.ipynb#X10sZmlsZQ%3D%3D?line=1'>2</a>\u001b[0m     RunnablePassthrough\u001b[39m.\u001b[39massign(query\u001b[39m=\u001b[39msql_response)\n\u001b[0;32m      <a href='vscode-notebook-cell:/c%3A/Users/shchitt/OneDrive%20-%20Microsoft/Desktop/OpenAI/AndrewNg-OpenAI-Azure/LCEL-Cookbook/L4-Querying-Sql-DB.ipynb#X10sZmlsZQ%3D%3D?line=2'>3</a>\u001b[0m     \u001b[39m|\u001b[39m RunnablePassthrough\u001b[39m.\u001b[39massign(\n\u001b[0;32m      <a href='vscode-notebook-cell:/c%3A/Users/shchitt/OneDrive%20-%20Microsoft/Desktop/OpenAI/AndrewNg-OpenAI-Azure/LCEL-Cookbook/L4-Querying-Sql-DB.ipynb#X10sZmlsZQ%3D%3D?line=3'>4</a>\u001b[0m         schema\u001b[39m=\u001b[39mget_schema,\n\u001b[1;32m----> <a href='vscode-notebook-cell:/c%3A/Users/shchitt/OneDrive%20-%20Microsoft/Desktop/OpenAI/AndrewNg-OpenAI-Azure/LCEL-Cookbook/L4-Querying-Sql-DB.ipynb#X10sZmlsZQ%3D%3D?line=4'>5</a>\u001b[0m         response\u001b[39m=\u001b[39m\u001b[39mlambda\u001b[39;00m x: db\u001b[39m.\u001b[39;49mrun(x[\u001b[39m\"\u001b[39;49m\u001b[39mquery\u001b[39;49m\u001b[39m\"\u001b[39;49m]),\n\u001b[0;32m      <a href='vscode-notebook-cell:/c%3A/Users/shchitt/OneDrive%20-%20Microsoft/Desktop/OpenAI/AndrewNg-OpenAI-Azure/LCEL-Cookbook/L4-Querying-Sql-DB.ipynb#X10sZmlsZQ%3D%3D?line=5'>6</a>\u001b[0m     )\n\u001b[0;32m      <a href='vscode-notebook-cell:/c%3A/Users/shchitt/OneDrive%20-%20Microsoft/Desktop/OpenAI/AndrewNg-OpenAI-Azure/LCEL-Cookbook/L4-Querying-Sql-DB.ipynb#X10sZmlsZQ%3D%3D?line=6'>7</a>\u001b[0m     \u001b[39m|\u001b[39m prompt_response\n\u001b[0;32m      <a href='vscode-notebook-cell:/c%3A/Users/shchitt/OneDrive%20-%20Microsoft/Desktop/OpenAI/AndrewNg-OpenAI-Azure/LCEL-Cookbook/L4-Querying-Sql-DB.ipynb#X10sZmlsZQ%3D%3D?line=7'>8</a>\u001b[0m     \u001b[39m|\u001b[39m model\n\u001b[0;32m      <a href='vscode-notebook-cell:/c%3A/Users/shchitt/OneDrive%20-%20Microsoft/Desktop/OpenAI/AndrewNg-OpenAI-Azure/LCEL-Cookbook/L4-Querying-Sql-DB.ipynb#X10sZmlsZQ%3D%3D?line=8'>9</a>\u001b[0m )\n",
      "File \u001b[1;32mc:\\Users\\shchitt\\AppData\\Local\\anaconda3\\envs\\llms\\lib\\site-packages\\langchain\\utilities\\sql_database.py:429\u001b[0m, in \u001b[0;36mSQLDatabase.run\u001b[1;34m(self, command, fetch)\u001b[0m\n\u001b[0;32m    419\u001b[0m \u001b[39mdef\u001b[39;00m \u001b[39mrun\u001b[39m(\n\u001b[0;32m    420\u001b[0m     \u001b[39mself\u001b[39m,\n\u001b[0;32m    421\u001b[0m     command: \u001b[39mstr\u001b[39m,\n\u001b[0;32m    422\u001b[0m     fetch: Union[Literal[\u001b[39m\"\u001b[39m\u001b[39mall\u001b[39m\u001b[39m\"\u001b[39m], Literal[\u001b[39m\"\u001b[39m\u001b[39mone\u001b[39m\u001b[39m\"\u001b[39m]] \u001b[39m=\u001b[39m \u001b[39m\"\u001b[39m\u001b[39mall\u001b[39m\u001b[39m\"\u001b[39m,\n\u001b[0;32m    423\u001b[0m ) \u001b[39m-\u001b[39m\u001b[39m>\u001b[39m \u001b[39mstr\u001b[39m:\n\u001b[0;32m    424\u001b[0m \u001b[39m    \u001b[39m\u001b[39m\"\"\"Execute a SQL command and return a string representing the results.\u001b[39;00m\n\u001b[0;32m    425\u001b[0m \n\u001b[0;32m    426\u001b[0m \u001b[39m    If the statement returns rows, a string of the results is returned.\u001b[39;00m\n\u001b[0;32m    427\u001b[0m \u001b[39m    If the statement returns no rows, an empty string is returned.\u001b[39;00m\n\u001b[0;32m    428\u001b[0m \u001b[39m    \"\"\"\u001b[39;00m\n\u001b[1;32m--> 429\u001b[0m     result \u001b[39m=\u001b[39m \u001b[39mself\u001b[39;49m\u001b[39m.\u001b[39;49m_execute(command, fetch)\n\u001b[0;32m    430\u001b[0m     \u001b[39m# Convert columns values to string to avoid issues with sqlalchemy\u001b[39;00m\n\u001b[0;32m    431\u001b[0m     \u001b[39m# truncating text\u001b[39;00m\n\u001b[0;32m    432\u001b[0m     res \u001b[39m=\u001b[39m [\n\u001b[0;32m    433\u001b[0m         \u001b[39mtuple\u001b[39m(truncate_word(c, length\u001b[39m=\u001b[39m\u001b[39mself\u001b[39m\u001b[39m.\u001b[39m_max_string_length) \u001b[39mfor\u001b[39;00m c \u001b[39min\u001b[39;00m r\u001b[39m.\u001b[39mvalues())\n\u001b[0;32m    434\u001b[0m         \u001b[39mfor\u001b[39;00m r \u001b[39min\u001b[39;00m result\n\u001b[0;32m    435\u001b[0m     ]\n",
      "File \u001b[1;32mc:\\Users\\shchitt\\AppData\\Local\\anaconda3\\envs\\llms\\lib\\site-packages\\langchain\\utilities\\sql_database.py:407\u001b[0m, in \u001b[0;36mSQLDatabase._execute\u001b[1;34m(self, command, fetch)\u001b[0m\n\u001b[0;32m    405\u001b[0m     \u001b[39melse\u001b[39;00m:  \u001b[39m# postgresql and other compatible dialects\u001b[39;00m\n\u001b[0;32m    406\u001b[0m         connection\u001b[39m.\u001b[39mexec_driver_sql(\u001b[39m\"\u001b[39m\u001b[39mSET search_path TO \u001b[39m\u001b[39m%s\u001b[39;00m\u001b[39m\"\u001b[39m, (\u001b[39mself\u001b[39m\u001b[39m.\u001b[39m_schema,))\n\u001b[1;32m--> 407\u001b[0m cursor \u001b[39m=\u001b[39m connection\u001b[39m.\u001b[39;49mexecute(text(command))\n\u001b[0;32m    408\u001b[0m \u001b[39mif\u001b[39;00m cursor\u001b[39m.\u001b[39mreturns_rows:\n\u001b[0;32m    409\u001b[0m     \u001b[39mif\u001b[39;00m fetch \u001b[39m==\u001b[39m \u001b[39m\"\u001b[39m\u001b[39mall\u001b[39m\u001b[39m\"\u001b[39m:\n",
      "File \u001b[1;32mc:\\Users\\shchitt\\AppData\\Local\\anaconda3\\envs\\llms\\lib\\site-packages\\sqlalchemy\\engine\\base.py:1416\u001b[0m, in \u001b[0;36mConnection.execute\u001b[1;34m(self, statement, parameters, execution_options)\u001b[0m\n\u001b[0;32m   1414\u001b[0m     \u001b[39mraise\u001b[39;00m exc\u001b[39m.\u001b[39mObjectNotExecutableError(statement) \u001b[39mfrom\u001b[39;00m \u001b[39merr\u001b[39;00m\n\u001b[0;32m   1415\u001b[0m \u001b[39melse\u001b[39;00m:\n\u001b[1;32m-> 1416\u001b[0m     \u001b[39mreturn\u001b[39;00m meth(\n\u001b[0;32m   1417\u001b[0m         \u001b[39mself\u001b[39;49m,\n\u001b[0;32m   1418\u001b[0m         distilled_parameters,\n\u001b[0;32m   1419\u001b[0m         execution_options \u001b[39mor\u001b[39;49;00m NO_OPTIONS,\n\u001b[0;32m   1420\u001b[0m     )\n",
      "File \u001b[1;32mc:\\Users\\shchitt\\AppData\\Local\\anaconda3\\envs\\llms\\lib\\site-packages\\sqlalchemy\\sql\\elements.py:516\u001b[0m, in \u001b[0;36mClauseElement._execute_on_connection\u001b[1;34m(self, connection, distilled_params, execution_options)\u001b[0m\n\u001b[0;32m    514\u001b[0m     \u001b[39mif\u001b[39;00m TYPE_CHECKING:\n\u001b[0;32m    515\u001b[0m         \u001b[39massert\u001b[39;00m \u001b[39misinstance\u001b[39m(\u001b[39mself\u001b[39m, Executable)\n\u001b[1;32m--> 516\u001b[0m     \u001b[39mreturn\u001b[39;00m connection\u001b[39m.\u001b[39;49m_execute_clauseelement(\n\u001b[0;32m    517\u001b[0m         \u001b[39mself\u001b[39;49m, distilled_params, execution_options\n\u001b[0;32m    518\u001b[0m     )\n\u001b[0;32m    519\u001b[0m \u001b[39melse\u001b[39;00m:\n\u001b[0;32m    520\u001b[0m     \u001b[39mraise\u001b[39;00m exc\u001b[39m.\u001b[39mObjectNotExecutableError(\u001b[39mself\u001b[39m)\n",
      "File \u001b[1;32mc:\\Users\\shchitt\\AppData\\Local\\anaconda3\\envs\\llms\\lib\\site-packages\\sqlalchemy\\engine\\base.py:1639\u001b[0m, in \u001b[0;36mConnection._execute_clauseelement\u001b[1;34m(self, elem, distilled_parameters, execution_options)\u001b[0m\n\u001b[0;32m   1627\u001b[0m compiled_cache: Optional[CompiledCacheType] \u001b[39m=\u001b[39m execution_options\u001b[39m.\u001b[39mget(\n\u001b[0;32m   1628\u001b[0m     \u001b[39m\"\u001b[39m\u001b[39mcompiled_cache\u001b[39m\u001b[39m\"\u001b[39m, \u001b[39mself\u001b[39m\u001b[39m.\u001b[39mengine\u001b[39m.\u001b[39m_compiled_cache\n\u001b[0;32m   1629\u001b[0m )\n\u001b[0;32m   1631\u001b[0m compiled_sql, extracted_params, cache_hit \u001b[39m=\u001b[39m elem\u001b[39m.\u001b[39m_compile_w_cache(\n\u001b[0;32m   1632\u001b[0m     dialect\u001b[39m=\u001b[39mdialect,\n\u001b[0;32m   1633\u001b[0m     compiled_cache\u001b[39m=\u001b[39mcompiled_cache,\n\u001b[1;32m   (...)\u001b[0m\n\u001b[0;32m   1637\u001b[0m     linting\u001b[39m=\u001b[39m\u001b[39mself\u001b[39m\u001b[39m.\u001b[39mdialect\u001b[39m.\u001b[39mcompiler_linting \u001b[39m|\u001b[39m compiler\u001b[39m.\u001b[39mWARN_LINTING,\n\u001b[0;32m   1638\u001b[0m )\n\u001b[1;32m-> 1639\u001b[0m ret \u001b[39m=\u001b[39m \u001b[39mself\u001b[39;49m\u001b[39m.\u001b[39;49m_execute_context(\n\u001b[0;32m   1640\u001b[0m     dialect,\n\u001b[0;32m   1641\u001b[0m     dialect\u001b[39m.\u001b[39;49mexecution_ctx_cls\u001b[39m.\u001b[39;49m_init_compiled,\n\u001b[0;32m   1642\u001b[0m     compiled_sql,\n\u001b[0;32m   1643\u001b[0m     distilled_parameters,\n\u001b[0;32m   1644\u001b[0m     execution_options,\n\u001b[0;32m   1645\u001b[0m     compiled_sql,\n\u001b[0;32m   1646\u001b[0m     distilled_parameters,\n\u001b[0;32m   1647\u001b[0m     elem,\n\u001b[0;32m   1648\u001b[0m     extracted_params,\n\u001b[0;32m   1649\u001b[0m     cache_hit\u001b[39m=\u001b[39;49mcache_hit,\n\u001b[0;32m   1650\u001b[0m )\n\u001b[0;32m   1651\u001b[0m \u001b[39mif\u001b[39;00m has_events:\n\u001b[0;32m   1652\u001b[0m     \u001b[39mself\u001b[39m\u001b[39m.\u001b[39mdispatch\u001b[39m.\u001b[39mafter_execute(\n\u001b[0;32m   1653\u001b[0m         \u001b[39mself\u001b[39m,\n\u001b[0;32m   1654\u001b[0m         elem,\n\u001b[1;32m   (...)\u001b[0m\n\u001b[0;32m   1658\u001b[0m         ret,\n\u001b[0;32m   1659\u001b[0m     )\n",
      "File \u001b[1;32mc:\\Users\\shchitt\\AppData\\Local\\anaconda3\\envs\\llms\\lib\\site-packages\\sqlalchemy\\engine\\base.py:1848\u001b[0m, in \u001b[0;36mConnection._execute_context\u001b[1;34m(self, dialect, constructor, statement, parameters, execution_options, *args, **kw)\u001b[0m\n\u001b[0;32m   1843\u001b[0m     \u001b[39mreturn\u001b[39;00m \u001b[39mself\u001b[39m\u001b[39m.\u001b[39m_exec_insertmany_context(\n\u001b[0;32m   1844\u001b[0m         dialect,\n\u001b[0;32m   1845\u001b[0m         context,\n\u001b[0;32m   1846\u001b[0m     )\n\u001b[0;32m   1847\u001b[0m \u001b[39melse\u001b[39;00m:\n\u001b[1;32m-> 1848\u001b[0m     \u001b[39mreturn\u001b[39;00m \u001b[39mself\u001b[39;49m\u001b[39m.\u001b[39;49m_exec_single_context(\n\u001b[0;32m   1849\u001b[0m         dialect, context, statement, parameters\n\u001b[0;32m   1850\u001b[0m     )\n",
      "File \u001b[1;32mc:\\Users\\shchitt\\AppData\\Local\\anaconda3\\envs\\llms\\lib\\site-packages\\sqlalchemy\\engine\\base.py:1988\u001b[0m, in \u001b[0;36mConnection._exec_single_context\u001b[1;34m(self, dialect, context, statement, parameters)\u001b[0m\n\u001b[0;32m   1985\u001b[0m     result \u001b[39m=\u001b[39m context\u001b[39m.\u001b[39m_setup_result_proxy()\n\u001b[0;32m   1987\u001b[0m \u001b[39mexcept\u001b[39;00m \u001b[39mBaseException\u001b[39;00m \u001b[39mas\u001b[39;00m e:\n\u001b[1;32m-> 1988\u001b[0m     \u001b[39mself\u001b[39;49m\u001b[39m.\u001b[39;49m_handle_dbapi_exception(\n\u001b[0;32m   1989\u001b[0m         e, str_statement, effective_parameters, cursor, context\n\u001b[0;32m   1990\u001b[0m     )\n\u001b[0;32m   1992\u001b[0m \u001b[39mreturn\u001b[39;00m result\n",
      "File \u001b[1;32mc:\\Users\\shchitt\\AppData\\Local\\anaconda3\\envs\\llms\\lib\\site-packages\\sqlalchemy\\engine\\base.py:2343\u001b[0m, in \u001b[0;36mConnection._handle_dbapi_exception\u001b[1;34m(self, e, statement, parameters, cursor, context, is_sub_exec)\u001b[0m\n\u001b[0;32m   2341\u001b[0m \u001b[39melif\u001b[39;00m should_wrap:\n\u001b[0;32m   2342\u001b[0m     \u001b[39massert\u001b[39;00m sqlalchemy_exception \u001b[39mis\u001b[39;00m \u001b[39mnot\u001b[39;00m \u001b[39mNone\u001b[39;00m\n\u001b[1;32m-> 2343\u001b[0m     \u001b[39mraise\u001b[39;00m sqlalchemy_exception\u001b[39m.\u001b[39mwith_traceback(exc_info[\u001b[39m2\u001b[39m]) \u001b[39mfrom\u001b[39;00m \u001b[39me\u001b[39;00m\n\u001b[0;32m   2344\u001b[0m \u001b[39melse\u001b[39;00m:\n\u001b[0;32m   2345\u001b[0m     \u001b[39massert\u001b[39;00m exc_info[\u001b[39m1\u001b[39m] \u001b[39mis\u001b[39;00m \u001b[39mnot\u001b[39;00m \u001b[39mNone\u001b[39;00m\n",
      "File \u001b[1;32mc:\\Users\\shchitt\\AppData\\Local\\anaconda3\\envs\\llms\\lib\\site-packages\\sqlalchemy\\engine\\base.py:1969\u001b[0m, in \u001b[0;36mConnection._exec_single_context\u001b[1;34m(self, dialect, context, statement, parameters)\u001b[0m\n\u001b[0;32m   1967\u001b[0m                 \u001b[39mbreak\u001b[39;00m\n\u001b[0;32m   1968\u001b[0m     \u001b[39mif\u001b[39;00m \u001b[39mnot\u001b[39;00m evt_handled:\n\u001b[1;32m-> 1969\u001b[0m         \u001b[39mself\u001b[39;49m\u001b[39m.\u001b[39;49mdialect\u001b[39m.\u001b[39;49mdo_execute(\n\u001b[0;32m   1970\u001b[0m             cursor, str_statement, effective_parameters, context\n\u001b[0;32m   1971\u001b[0m         )\n\u001b[0;32m   1973\u001b[0m \u001b[39mif\u001b[39;00m \u001b[39mself\u001b[39m\u001b[39m.\u001b[39m_has_events \u001b[39mor\u001b[39;00m \u001b[39mself\u001b[39m\u001b[39m.\u001b[39mengine\u001b[39m.\u001b[39m_has_events:\n\u001b[0;32m   1974\u001b[0m     \u001b[39mself\u001b[39m\u001b[39m.\u001b[39mdispatch\u001b[39m.\u001b[39mafter_cursor_execute(\n\u001b[0;32m   1975\u001b[0m         \u001b[39mself\u001b[39m,\n\u001b[0;32m   1976\u001b[0m         cursor,\n\u001b[1;32m   (...)\u001b[0m\n\u001b[0;32m   1980\u001b[0m         context\u001b[39m.\u001b[39mexecutemany,\n\u001b[0;32m   1981\u001b[0m     )\n",
      "File \u001b[1;32mc:\\Users\\shchitt\\AppData\\Local\\anaconda3\\envs\\llms\\lib\\site-packages\\sqlalchemy\\engine\\default.py:922\u001b[0m, in \u001b[0;36mDefaultDialect.do_execute\u001b[1;34m(self, cursor, statement, parameters, context)\u001b[0m\n\u001b[0;32m    921\u001b[0m \u001b[39mdef\u001b[39;00m \u001b[39mdo_execute\u001b[39m(\u001b[39mself\u001b[39m, cursor, statement, parameters, context\u001b[39m=\u001b[39m\u001b[39mNone\u001b[39;00m):\n\u001b[1;32m--> 922\u001b[0m     cursor\u001b[39m.\u001b[39;49mexecute(statement, parameters)\n",
      "\u001b[1;31mOperationalError\u001b[0m: (sqlite3.OperationalError) no such table: employees\n[SQL: SELECT COUNT(*) FROM employees;]\n(Background on this error at: https://sqlalche.me/e/20/e3q8)"
     ]
    }
   ],
   "source": [
    "full_chain.invoke({\"question\": \"How many employees are there?\"})"
   ]
  },
  {
   "cell_type": "code",
   "execution_count": null,
   "metadata": {},
   "outputs": [],
   "source": []
  }
 ],
 "metadata": {
  "kernelspec": {
   "display_name": "llms",
   "language": "python",
   "name": "python3"
  },
  "language_info": {
   "codemirror_mode": {
    "name": "ipython",
    "version": 3
   },
   "file_extension": ".py",
   "mimetype": "text/x-python",
   "name": "python",
   "nbconvert_exporter": "python",
   "pygments_lexer": "ipython3",
   "version": "3.10.12"
  }
 },
 "nbformat": 4,
 "nbformat_minor": 2
}
